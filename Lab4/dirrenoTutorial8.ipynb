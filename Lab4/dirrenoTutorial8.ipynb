{
  "nbformat": 4,
  "nbformat_minor": 0,
  "metadata": {
    "kernelspec": {
      "display_name": "Python 3",
      "language": "python",
      "name": "python3"
    },
    "language_info": {
      "codemirror_mode": {
        "name": "ipython",
        "version": 3
      },
      "file_extension": ".py",
      "mimetype": "text/x-python",
      "name": "python",
      "nbconvert_exporter": "python",
      "pygments_lexer": "ipython3",
      "version": "3.6.8"
    },
    "colab": {
      "name": "dirrenoTutorial8.ipynb",
      "provenance": [],
      "include_colab_link": true
    }
  },
  "cells": [
    {
      "cell_type": "markdown",
      "metadata": {
        "id": "view-in-github",
        "colab_type": "text"
      },
      "source": [
        "<a href=\"https://colab.research.google.com/github/dirreno/AlgorithmsUN2021I/blob/main/dirrenoTutorial8.ipynb\" target=\"_parent\"><img src=\"https://colab.research.google.com/assets/colab-badge.svg\" alt=\"Open In Colab\"/></a>"
      ]
    },
    {
      "cell_type": "markdown",
      "metadata": {
        "id": "tZQETZdRXGT9"
      },
      "source": [
        "![QuantConnect Logo](https://cdn.quantconnect.com/web/i/icon.png)\n",
        "<hr>"
      ]
    },
    {
      "cell_type": "code",
      "metadata": {
        "id": "Ukm0fDQkXGT_",
        "outputId": "457a011d-d61d-4e7c-84d8-adaaa6bbbc1a"
      },
      "source": [
        "import matplotlib.pyplot as plt\n",
        "import numpy as np\n",
        "import pandas as pd\n",
        "\n",
        "qb = QuantBook()\n",
        "spy = qb.AddEquity(\"SPY\").Symbol\n",
        "\n",
        "#get SPY data from August 2010 to the present\n",
        "start_date = datetime(2010, 8, 1, 0, 0, 0)\n",
        "end_date = qb.Time\n",
        "spy_table = qb.History(spy, start_date, end_date, Resolution.Daily)\n",
        "\n",
        "spy_total = spy_table[['open','close']]\n",
        "#calculate log returns\n",
        "spy_log_return = np.log(spy_total.close).diff().dropna()\n",
        "print('Population mean:', np.mean(spy_log_return))\n",
        "print('Population standard deviation:',np.std(spy_log_return))"
      ],
      "execution_count": null,
      "outputs": [
        {
          "output_type": "stream",
          "text": [
            "Population mean: 0.0005565142362478593\n",
            "Population standard deviation: 0.010778726053379635\n"
          ],
          "name": "stdout"
        }
      ]
    },
    {
      "cell_type": "code",
      "metadata": {
        "id": "trexjlmCXGUA",
        "outputId": "e4bbaaa8-ef39-40ed-b1ff-0e9c067ed69f"
      },
      "source": [
        "print ('10 days sample returns:', np.mean(spy_log_return.tail(10)))\n",
        "print ('10 days sample standard deviation:', np.std(spy_log_return.tail(10)))\n",
        "print ('1000 days sample returns:', np.mean(spy_log_return.tail(1000)))\n",
        "print ('1000 days sample standard deviation:', np.std(spy_log_return.tail(1000)))"
      ],
      "execution_count": null,
      "outputs": [
        {
          "output_type": "stream",
          "text": [
            "10 days sample returns: 0.004294144138523137\n",
            "10 days sample standard deviation: 0.0069800012066471686\n",
            "1000 days sample returns: 0.0006243622794279915\n",
            "1000 days sample standard deviation: 0.01293828070062196\n"
          ],
          "name": "stdout"
        }
      ]
    },
    {
      "cell_type": "code",
      "metadata": {
        "id": "1AVsxPzBXGUB",
        "outputId": "bf869ab5-aeb7-429b-b118-44877b1cceaf"
      },
      "source": [
        "bottom_1 = np.mean(spy_log_return.tail(10))-1.96*np.std(spy_log_return.tail(10))/(np.sqrt(len((spy_log_return.tail(10)))))\n",
        "upper_1 = np.mean(spy_log_return.tail(10))+1.96*np.std(spy_log_return.tail(10))/(np.sqrt(len((spy_log_return.tail(10)))))\n",
        "bottom_2 = np.mean(spy_log_return.tail(1000))-1.96*np.std(spy_log_return.tail(1000))/(np.sqrt(len((spy_log_return.tail(1000)))))\n",
        "upper_2 = np.mean(spy_log_return.tail(1000))+1.96*np.std(spy_log_return.tail(1000))/(np.sqrt(len((spy_log_return.tail(1000)))))\n",
        "print ('10 days 95% confidence inverval:', (bottom_1,upper_1))\n",
        "print ('1000 days 95% confidence inverval:', (bottom_2,upper_2))"
      ],
      "execution_count": null,
      "outputs": [
        {
          "output_type": "stream",
          "text": [
            "10 days 95% confidence inverval: (-3.210543068768272e-05, 0.008620393707733957)\n",
            "1000 days 95% confidence inverval: (-0.00017756066657507292, 0.001426285225431056)\n"
          ],
          "name": "stdout"
        }
      ]
    },
    {
      "cell_type": "code",
      "metadata": {
        "id": "ND5bDjKGXGUC",
        "outputId": "6fbbf34a-a65f-4737-cb2a-2592fb501377"
      },
      "source": [
        "mean_10 = np.mean(spy_log_return.tail(10))\n",
        "std_10 = np.std(spy_log_return.tail(10))\n",
        "mean_1000 = np.mean(spy_log_return.tail(1000))\n",
        "std_1000 = np.std(spy_log_return.tail(1000))\n",
        "s = pd.Series([mean_10,std_10,mean_1000,std_1000],index = ['mean_10', 'std_10','mean_1000','std_1000'])\n",
        "print (s)"
      ],
      "execution_count": null,
      "outputs": [
        {
          "output_type": "stream",
          "text": [
            "mean_10      0.004294\n",
            "std_10       0.006980\n",
            "mean_1000    0.000624\n",
            "std_1000     0.012938\n",
            "dtype: float64\n"
          ],
          "name": "stdout"
        }
      ]
    },
    {
      "cell_type": "code",
      "metadata": {
        "id": "VQeal6yAXGUC",
        "outputId": "4da24117-bcd0-478a-8ed7-bbffb65e10da"
      },
      "source": [
        "bottom = 0 - 1.64*std_1000/np.sqrt(1000)\n",
        "upper = 0 + 1.64*std_1000/np.sqrt(1000)\n",
        "print (bottom, upper)"
      ],
      "execution_count": null,
      "outputs": [
        {
          "output_type": "stream",
          "text": [
            "-0.0006709967507372579 0.0006709967507372579\n"
          ],
          "name": "stdout"
        }
      ]
    },
    {
      "cell_type": "code",
      "metadata": {
        "id": "_WwBeva9XGUD",
        "outputId": "ea2e8ee5-e98a-4a81-99f5-8ca74a48f66c"
      },
      "source": [
        "bottom = 0 - 1.96*std_1000/np.sqrt(1000)\n",
        "upper = 0 + 1.96*std_1000/np.sqrt(1000)\n",
        "print (bottom, upper)"
      ],
      "execution_count": null,
      "outputs": [
        {
          "output_type": "stream",
          "text": [
            "-0.0008019229460030645 0.0008019229460030645\n"
          ],
          "name": "stdout"
        }
      ]
    },
    {
      "cell_type": "code",
      "metadata": {
        "id": "-spAYL4zXGUE",
        "outputId": "1e9689ff-2be0-4692-d2ad-440bb13afdbe"
      },
      "source": [
        "print (np.sqrt(1000)*(mean_1000 - 0)/std_1000)"
      ],
      "execution_count": null,
      "outputs": [
        {
          "output_type": "stream",
          "text": [
            "1.526019518182221\n"
          ],
          "name": "stdout"
        }
      ]
    },
    {
      "cell_type": "code",
      "metadata": {
        "id": "v1uLWcyoXGUE",
        "outputId": "d29f6abb-3ae5-461d-f1bc-064dd151fcbf"
      },
      "source": [
        "import scipy.stats as st\n",
        "print (1 - st.norm.cdf(1.9488))"
      ],
      "execution_count": null,
      "outputs": [
        {
          "output_type": "stream",
          "text": [
            "0.02565965688799665\n"
          ],
          "name": "stdout"
        }
      ]
    },
    {
      "cell_type": "code",
      "metadata": {
        "id": "Azol8jW1XGUF",
        "outputId": "1c2f8856-ed1a-4502-e061-d2d960e9f7a7"
      },
      "source": [
        "mean_1200 = np.mean(spy_log_return.tail(1200))\n",
        "std_1200 = np.std(spy_log_return.tail(1200))\n",
        "z_score = np.sqrt(1200)*(mean_1200 - 0)/std_1200\n",
        "print ('z-score = ',z_score)\n",
        "p_value = (1 - st.norm.cdf(z_score))\n",
        "print ('p_value = ',p_value)"
      ],
      "execution_count": null,
      "outputs": [
        {
          "output_type": "stream",
          "text": [
            "z-score =  1.841754306347644\n",
            "p_value =  0.03275554830717087\n"
          ],
          "name": "stdout"
        }
      ]
    },
    {
      "cell_type": "code",
      "metadata": {
        "id": "MdtIXtmWXGUF"
      },
      "source": [
        ""
      ],
      "execution_count": null,
      "outputs": []
    }
  ]
}
