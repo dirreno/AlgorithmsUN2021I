{
  "nbformat": 4,
  "nbformat_minor": 0,
  "metadata": {
    "kernelspec": {
      "name": "python3",
      "display_name": "Python 3"
    },
    "colab": {
      "name": "lecture1.ipynb",
      "provenance": [],
      "include_colab_link": true
    }
  },
  "cells": [
    {
      "cell_type": "markdown",
      "metadata": {
        "id": "view-in-github",
        "colab_type": "text"
      },
      "source": [
        "<a href=\"https://colab.research.google.com/github/dirreno/AlgorithmsUN2020I1/blob/main/dirrenolecture1.ipynb\" target=\"_parent\"><img src=\"https://colab.research.google.com/assets/colab-badge.svg\" alt=\"Open In Colab\"/></a>"
      ]
    },
    {
      "cell_type": "markdown",
      "metadata": {
        "id": "RkUY5QutLvjt"
      },
      "source": [
        "#Introduction to the Research Environment\n",
        "\n",
        "The research environment is powered by IPython notebooks, which allow one to perform a great deal of data analysis and statistical validation. We'll demonstrate a few simple techniques here."
      ]
    },
    {
      "cell_type": "markdown",
      "metadata": {
        "id": "TMBLIjEXLvju"
      },
      "source": [
        "##Code Cells vs. Text Cells\n",
        "\n",
        "As you can see, each cell can be either code or text. To select between them, choose from the 'Cell Type' dropdown menu on the top left."
      ]
    },
    {
      "cell_type": "markdown",
      "metadata": {
        "id": "wnREdWKPLvjv"
      },
      "source": [
        "##Executing a Command\n",
        "\n",
        "A code cell will be evaluated when you press play, or when you press the shortcut, shift-enter. Evaluating a cell evaluates each line of code in sequence, and prints the results of the last line below the cell."
      ]
    },
    {
      "cell_type": "code",
      "metadata": {
        "colab": {
          "base_uri": "https://localhost:8080/"
        },
        "id": "C4qk5EtsLvjv",
        "outputId": "bd581fc2-3b57-4684-88d7-43a296538f2b"
      },
      "source": [
        "2 + 2"
      ],
      "execution_count": null,
      "outputs": [
        {
          "output_type": "execute_result",
          "data": {
            "text/plain": [
              "4"
            ]
          },
          "metadata": {
            "tags": []
          },
          "execution_count": 1
        }
      ]
    },
    {
      "cell_type": "markdown",
      "metadata": {
        "id": "xOLSRxA1asSJ"
      },
      "source": [
        "Ejemplo"
      ]
    },
    {
      "cell_type": "code",
      "metadata": {
        "colab": {
          "base_uri": "https://localhost:8080/"
        },
        "id": "rAnforNTIIK_",
        "outputId": "1b6ea1c9-760c-439e-c0a7-e689fc01e0a0"
      },
      "source": [
        "32 +43"
      ],
      "execution_count": null,
      "outputs": [
        {
          "output_type": "execute_result",
          "data": {
            "text/plain": [
              "75"
            ]
          },
          "metadata": {
            "tags": []
          },
          "execution_count": 34
        }
      ]
    },
    {
      "cell_type": "markdown",
      "metadata": {
        "id": "VZhnQUF-Lvjw"
      },
      "source": [
        "Sometimes there is no result to be printed, as is the case with assignment."
      ]
    },
    {
      "cell_type": "code",
      "metadata": {
        "collapsed": true,
        "id": "aejdGeHHLvjw"
      },
      "source": [
        "X = 2"
      ],
      "execution_count": null,
      "outputs": []
    },
    {
      "cell_type": "markdown",
      "metadata": {
        "id": "RFct3zheavSj"
      },
      "source": [
        "Ejemplo"
      ]
    },
    {
      "cell_type": "code",
      "metadata": {
        "id": "w0W8XoGEIK6R"
      },
      "source": [
        "Y = 4"
      ],
      "execution_count": null,
      "outputs": []
    },
    {
      "cell_type": "markdown",
      "metadata": {
        "id": "PM07fLYxLvjw"
      },
      "source": [
        "Remember that only the result from the last line is printed."
      ]
    },
    {
      "cell_type": "code",
      "metadata": {
        "id": "jXhtZFYYLvjx",
        "colab": {
          "base_uri": "https://localhost:8080/"
        },
        "outputId": "3f889b93-6767-4711-c3d8-4a86f95f2d37"
      },
      "source": [
        "2 + 2\n",
        "3 + 3"
      ],
      "execution_count": null,
      "outputs": [
        {
          "output_type": "execute_result",
          "data": {
            "text/plain": [
              "6"
            ]
          },
          "metadata": {
            "tags": []
          },
          "execution_count": 2
        }
      ]
    },
    {
      "cell_type": "markdown",
      "metadata": {
        "id": "ImihbSOMawGG"
      },
      "source": [
        "Ejemplo"
      ]
    },
    {
      "cell_type": "code",
      "metadata": {
        "colab": {
          "base_uri": "https://localhost:8080/"
        },
        "id": "09r4SrHEISLC",
        "outputId": "84ad0a32-8b26-42f3-f84d-46f916b2a451"
      },
      "source": [
        "26 + 24\r\n",
        "73 + 32"
      ],
      "execution_count": null,
      "outputs": [
        {
          "output_type": "execute_result",
          "data": {
            "text/plain": [
              "105"
            ]
          },
          "metadata": {
            "tags": []
          },
          "execution_count": 37
        }
      ]
    },
    {
      "cell_type": "markdown",
      "metadata": {
        "id": "9r1mfB94Lvjx"
      },
      "source": [
        "However, you can print whichever lines you want using the `print` statement."
      ]
    },
    {
      "cell_type": "code",
      "metadata": {
        "id": "bTRMFLh7Lvjx",
        "colab": {
          "base_uri": "https://localhost:8080/"
        },
        "outputId": "35508065-2a22-4797-9b34-a14535312b72"
      },
      "source": [
        "print (2 + 2)\n",
        "(3 + 3)"
      ],
      "execution_count": null,
      "outputs": [
        {
          "output_type": "stream",
          "text": [
            "4\n"
          ],
          "name": "stdout"
        },
        {
          "output_type": "execute_result",
          "data": {
            "text/plain": [
              "6"
            ]
          },
          "metadata": {
            "tags": []
          },
          "execution_count": 3
        }
      ]
    },
    {
      "cell_type": "markdown",
      "metadata": {
        "id": "XAXf0lsaaxEC"
      },
      "source": [
        "Ejemplo"
      ]
    },
    {
      "cell_type": "code",
      "metadata": {
        "colab": {
          "base_uri": "https://localhost:8080/"
        },
        "id": "UbaC2De6IPld",
        "outputId": "4b0ca4f6-539e-4706-ecde-449df76e6b27"
      },
      "source": [
        "print (232 + 243)\r\n",
        "(8+9)"
      ],
      "execution_count": null,
      "outputs": [
        {
          "output_type": "stream",
          "text": [
            "475\n"
          ],
          "name": "stdout"
        },
        {
          "output_type": "execute_result",
          "data": {
            "text/plain": [
              "17"
            ]
          },
          "metadata": {
            "tags": []
          },
          "execution_count": 1
        }
      ]
    },
    {
      "cell_type": "markdown",
      "metadata": {
        "id": "EckC_Bj0Lvjx"
      },
      "source": [
        "##Knowing When a Cell is Running\n",
        "\n",
        "While a cell is running, a `[*]` will display on the left. When a cell has yet to be executed, `[ ]` will display. When it has been run, a number will display indicating the order in which it was run during the execution of the notebook `[5]`. Try on this cell and note it happening."
      ]
    },
    {
      "cell_type": "markdown",
      "metadata": {
        "id": "B7HdCRC-Cf3f"
      },
      "source": [
        "$\r\n",
        "\\sum_{i=0}^{10000000}x_{i}=x_{1}+x_{2}+x_{3}+...+x_{10000000}\r\n",
        "$"
      ]
    },
    {
      "cell_type": "code",
      "metadata": {
        "id": "zt5eYY_JLvjy",
        "colab": {
          "base_uri": "https://localhost:8080/"
        },
        "outputId": "e05447ac-1d54-439a-db0d-ef8b0ce49d7b"
      },
      "source": [
        "#Take some time to run something\n",
        "c = 0\n",
        "for i in range(10000000):\n",
        "    c = c + i\n",
        "c"
      ],
      "execution_count": null,
      "outputs": [
        {
          "output_type": "execute_result",
          "data": {
            "text/plain": [
              "49999995000000"
            ]
          },
          "metadata": {
            "tags": []
          },
          "execution_count": 4
        }
      ]
    },
    {
      "cell_type": "markdown",
      "metadata": {
        "id": "BFaYhfQOLzZ1"
      },
      "source": [
        "Ejemplo"
      ]
    },
    {
      "cell_type": "markdown",
      "metadata": {
        "id": "87Ml_nABL8CX"
      },
      "source": [
        "$\r\n",
        "\\sum_{i=0}^{100000000}x_{i}=x_{1}+x_{2}+x_{3}+...+x_{100000000}\r\n",
        "$"
      ]
    },
    {
      "cell_type": "code",
      "metadata": {
        "colab": {
          "base_uri": "https://localhost:8080/"
        },
        "id": "GSSgWIR8MEwP",
        "outputId": "f45bd91a-bb72-4502-de15-2740dbc3a1fc"
      },
      "source": [
        "#Take some time to run something\r\n",
        "c = 0\r\n",
        "for i in range(100000000):\r\n",
        "    c = c + i\r\n",
        "c"
      ],
      "execution_count": null,
      "outputs": [
        {
          "output_type": "execute_result",
          "data": {
            "text/plain": [
              "4999999950000000"
            ]
          },
          "metadata": {
            "tags": []
          },
          "execution_count": 2
        }
      ]
    },
    {
      "cell_type": "markdown",
      "metadata": {
        "id": "KAb11FgvL02B"
      },
      "source": [
        ""
      ]
    },
    {
      "cell_type": "markdown",
      "metadata": {
        "id": "cjT4wXnGLvjy"
      },
      "source": [
        "##Importing Libraries\n",
        "\n",
        "The vast majority of the time, you'll want to use functions from pre-built libraries. You can't import every library on Quantopian due to security issues, but you can import most of the common scientific ones. Here I import numpy and pandas, the two most common and useful libraries in quant finance. I recommend copying this import statement to every new notebook.\n",
        "\n",
        "Notice that you can rename libraries to whatever you want after importing. The `as` statement allows this. Here we use `np` and `pd` as aliases for `numpy` and `pandas`. This is a very common aliasing and will be found in most code snippets around the web. The point behind this is to allow you to type fewer characters when you are frequently accessing these libraries."
      ]
    },
    {
      "cell_type": "code",
      "metadata": {
        "collapsed": true,
        "id": "YcvvLHT6Lvjy"
      },
      "source": [
        "import numpy as np\n",
        "import pandas as pd\n",
        "\n",
        "# This is a plotting library for pretty pictures.\n",
        "import matplotlib.pyplot as plt"
      ],
      "execution_count": 11,
      "outputs": []
    },
    {
      "cell_type": "markdown",
      "metadata": {
        "id": "7EdnZHZyLvjz"
      },
      "source": [
        "##Tab Autocomplete\n",
        "\n",
        "Pressing tab will give you a list of IPython's best guesses for what you might want to type next. This is incredibly valuable and will save you a lot of time. If there is only one possible option for what you could type next, IPython will fill that in for you. Try pressing tab very frequently, it will seldom fill in anything you don't want, as if there is ambiguity a list will be shown. This is a great way to see what functions are available in a library.\n",
        "\n",
        "Try placing your cursor after the `.` and pressing tab."
      ]
    },
    {
      "cell_type": "code",
      "metadata": {
        "id": "NJspgRA8Lvjz",
        "colab": {
          "base_uri": "https://localhost:8080/"
        },
        "outputId": "d788bd01-72f4-43c0-bdf9-2d0a894c5ee4"
      },
      "source": [
        "np.random.beta"
      ],
      "execution_count": null,
      "outputs": [
        {
          "output_type": "execute_result",
          "data": {
            "text/plain": [
              "<function RandomState.beta>"
            ]
          },
          "metadata": {
            "tags": []
          },
          "execution_count": 5
        }
      ]
    },
    {
      "cell_type": "markdown",
      "metadata": {
        "id": "Fa5rJUqCLvjz"
      },
      "source": [
        "##Getting Documentation Help\n",
        "\n",
        "Placing a question mark after a function and executing that line of code will give you the documentation IPython has for that function. It's often best to do this in a new cell, as you avoid re-executing other code and running into bugs."
      ]
    },
    {
      "cell_type": "code",
      "metadata": {
        "collapsed": true,
        "id": "of2_kiauLvjz"
      },
      "source": [
        "np.random.normal?"
      ],
      "execution_count": null,
      "outputs": []
    },
    {
      "cell_type": "markdown",
      "metadata": {
        "id": "oY19QeAvLvjz"
      },
      "source": [
        "##Sampling\n",
        "\n",
        "We'll sample some random data using a function from `numpy`."
      ]
    },
    {
      "cell_type": "code",
      "metadata": {
        "id": "rYU1TzLSLvj0"
      },
      "source": [
        "# Sample 100 points with a mean of 0 and an std of 1. This is a standard normal distribution.\n",
        "X = np.random.normal(0, 1, 100)"
      ],
      "execution_count": null,
      "outputs": []
    },
    {
      "cell_type": "markdown",
      "metadata": {
        "id": "LqV3tzZ-Lvj0"
      },
      "source": [
        "##Plotting\n",
        "\n",
        "We can use the plotting library we imported as follows."
      ]
    },
    {
      "cell_type": "code",
      "metadata": {
        "id": "2RgDema-Lvj0",
        "colab": {
          "base_uri": "https://localhost:8080/",
          "height": 283
        },
        "outputId": "5242ba43-282b-431e-c87b-8bd61390d7ed"
      },
      "source": [
        "plt.plot(X)"
      ],
      "execution_count": null,
      "outputs": [
        {
          "output_type": "execute_result",
          "data": {
            "text/plain": [
              "[<matplotlib.lines.Line2D at 0x7f391df9cc10>]"
            ]
          },
          "metadata": {
            "tags": []
          },
          "execution_count": 8
        },
        {
          "output_type": "display_data",
          "data": {
            "image/png": "[encoded data removed]",
            "text/plain": [
              "<Figure size 432x288 with 1 Axes>"
            ]
          },
          "metadata": {
            "tags": [],
            "needs_background": "light"
          }
        }
      ]
    },
    {
      "cell_type": "markdown",
      "metadata": {
        "id": "cW40E9t6M1nz"
      },
      "source": [
        "Ejemplo"
      ]
    },
    {
      "cell_type": "code",
      "metadata": {
        "colab": {
          "base_uri": "https://localhost:8080/",
          "height": 283
        },
        "id": "i3_z9MTrM57S",
        "outputId": "c2601eaa-b142-4206-f8f5-5cb89184343f"
      },
      "source": [
        "Y = np.random.normal(0, 1, 500)\r\n",
        "plt.plot(Y)"
      ],
      "execution_count": null,
      "outputs": [
        {
          "output_type": "execute_result",
          "data": {
            "text/plain": [
              "[<matplotlib.lines.Line2D at 0x7f391d59e810>]"
            ]
          },
          "metadata": {
            "tags": []
          },
          "execution_count": 20
        },
        {
          "output_type": "display_data",
          "data": {
            "image/png": "[encoded data removed]",
            "text/plain": [
              "<Figure size 432x288 with 1 Axes>"
            ]
          },
          "metadata": {
            "tags": [],
            "needs_background": "light"
          }
        }
      ]
    },
    {
      "cell_type": "markdown",
      "metadata": {
        "id": "Mlxsv-ZtLvj0"
      },
      "source": [
        "###Squelching Line Output\n",
        "\n",
        "You might have noticed the annoying line of the form `[<matplotlib.lines.Line2D at 0x7f72fdbc1710>]` before the plots. This is because the `.plot` function actually produces output. Sometimes we wish not to display output, we can accomplish this with the semi-colon as follows."
      ]
    },
    {
      "cell_type": "code",
      "metadata": {
        "id": "c-aPl5avLvj0",
        "colab": {
          "base_uri": "https://localhost:8080/",
          "height": 265
        },
        "outputId": "d3c248d2-06a5-4d70-a9e4-ad95197e4939"
      },
      "source": [
        "plt.plot(X);"
      ],
      "execution_count": null,
      "outputs": [
        {
          "output_type": "display_data",
          "data": {
            "image/png": "[encoded data removed]",
            "text/plain": [
              "<Figure size 432x288 with 1 Axes>"
            ]
          },
          "metadata": {
            "tags": [],
            "needs_background": "light"
          }
        }
      ]
    },
    {
      "cell_type": "markdown",
      "metadata": {
        "id": "zX_HSjr7Lvj1"
      },
      "source": [
        "###Adding Axis Labels\n",
        "\n",
        "No self-respecting quant leaves a graph without labeled axes. Here are some commands to help with that."
      ]
    },
    {
      "cell_type": "code",
      "metadata": {
        "id": "F9C64zCXLvj1",
        "colab": {
          "base_uri": "https://localhost:8080/",
          "height": 279
        },
        "outputId": "b2ecb3cf-3b29-4aa2-da8d-35b9a4e81bed"
      },
      "source": [
        "X = np.random.normal(0, 1, 100)\n",
        "X2 = np.random.normal(0, 1, 100)\n",
        "\n",
        "plt.plot(X);\n",
        "plt.plot(X2);\n",
        "plt.xlabel('Time') # The data we generated is unitless, but don't forget units in general.\n",
        "plt.ylabel('Returns')\n",
        "plt.legend(['X', 'X2']);"
      ],
      "execution_count": null,
      "outputs": [
        {
          "output_type": "display_data",
          "data": {
            "image/png": "[encoded data removed]",
            "text/plain": [
              "<Figure size 432x288 with 1 Axes>"
            ]
          },
          "metadata": {
            "tags": [],
            "needs_background": "light"
          }
        }
      ]
    },
    {
      "cell_type": "markdown",
      "metadata": {
        "id": "bYePsBagN-Vi"
      },
      "source": [
        "Ejemplo"
      ]
    },
    {
      "cell_type": "code",
      "metadata": {
        "colab": {
          "base_uri": "https://localhost:8080/",
          "height": 280
        },
        "id": "QBVRHNDNN_gh",
        "outputId": "bacefd72-d95b-4c24-8bd1-b7db8424b7e6"
      },
      "source": [
        "Y = np.random.normal(0, 1, 50)\r\n",
        "Y2 = np.random.normal(0, 1, 50)\r\n",
        "\r\n",
        "plt.plot(Y);\r\n",
        "plt.plot(Y2);\r\n",
        "plt.xlabel('Time')\r\n",
        "plt.ylabel('Returns')\r\n",
        "plt.legend(['Y', 'Y2']);"
      ],
      "execution_count": null,
      "outputs": [
        {
          "output_type": "display_data",
          "data": {
            "image/png": "[encoded data removed]",
            "text/plain": [
              "<Figure size 432x288 with 1 Axes>"
            ]
          },
          "metadata": {
            "tags": [],
            "needs_background": "light"
          }
        }
      ]
    },
    {
      "cell_type": "markdown",
      "metadata": {
        "id": "DdlfGOaGLvj1"
      },
      "source": [
        "##Generating Statistics\n",
        "\n",
        "Let's use `numpy` to take some simple statistics."
      ]
    },
    {
      "cell_type": "markdown",
      "metadata": {
        "id": "8woy_fb1QFlQ"
      },
      "source": [
        "Mean"
      ]
    },
    {
      "cell_type": "markdown",
      "metadata": {
        "id": "uSfKtbnNOaQX"
      },
      "source": [
        "$\\overline{x}=\\frac{1}{n}\\sum_{i=0}^{n}x_{i}\r\n",
        "$"
      ]
    },
    {
      "cell_type": "code",
      "metadata": {
        "id": "mnzmmYFmLvj1",
        "colab": {
          "base_uri": "https://localhost:8080/"
        },
        "outputId": "046bbaf0-c5cc-430d-adc4-1ed01a804f33"
      },
      "source": [
        "np.mean(X)"
      ],
      "execution_count": null,
      "outputs": [
        {
          "output_type": "execute_result",
          "data": {
            "text/plain": [
              "-0.07457862758335851"
            ]
          },
          "metadata": {
            "tags": []
          },
          "execution_count": 9
        }
      ]
    },
    {
      "cell_type": "markdown",
      "metadata": {
        "id": "nIuqADkcZTOj"
      },
      "source": [
        "Ejemplo"
      ]
    },
    {
      "cell_type": "code",
      "metadata": {
        "colab": {
          "base_uri": "https://localhost:8080/"
        },
        "id": "zEPUwuA9ZUuT",
        "outputId": "afa0379d-3fe5-4bc7-850b-34367e272ad1"
      },
      "source": [
        "np.mean(Y)"
      ],
      "execution_count": null,
      "outputs": [
        {
          "output_type": "execute_result",
          "data": {
            "text/plain": [
              "0.06647344830123242"
            ]
          },
          "metadata": {
            "tags": []
          },
          "execution_count": 22
        }
      ]
    },
    {
      "cell_type": "markdown",
      "metadata": {
        "id": "cN4ZHBaNP_8c"
      },
      "source": [
        "Standard deviation"
      ]
    },
    {
      "cell_type": "markdown",
      "metadata": {
        "id": "wBYKY82JQ0Sk"
      },
      "source": [
        "$\\sigma=\\sqrt{\\frac{\\sum_{i=0}^{n}(x_{i}-\\overline{x})^{2}}{n-1}}$"
      ]
    },
    {
      "cell_type": "code",
      "metadata": {
        "id": "3JX9Pyx6Lvj1",
        "colab": {
          "base_uri": "https://localhost:8080/"
        },
        "outputId": "6e74df79-4066-46e5-802f-c1166ed82322"
      },
      "source": [
        "np.std(X)"
      ],
      "execution_count": null,
      "outputs": [
        {
          "output_type": "execute_result",
          "data": {
            "text/plain": [
              "1.0839275500380001"
            ]
          },
          "metadata": {
            "tags": []
          },
          "execution_count": 10
        }
      ]
    },
    {
      "cell_type": "markdown",
      "metadata": {
        "id": "o5HQMWQWZZ09"
      },
      "source": [
        "Ejemplo"
      ]
    },
    {
      "cell_type": "code",
      "metadata": {
        "colab": {
          "base_uri": "https://localhost:8080/"
        },
        "id": "xaxwAqeNZZRP",
        "outputId": "4930240f-070b-4b2e-cd4a-bc04b7567a68"
      },
      "source": [
        "np.std(Y)"
      ],
      "execution_count": null,
      "outputs": [
        {
          "output_type": "execute_result",
          "data": {
            "text/plain": [
              "0.9710413015285541"
            ]
          },
          "metadata": {
            "tags": []
          },
          "execution_count": 23
        }
      ]
    },
    {
      "cell_type": "markdown",
      "metadata": {
        "id": "G3QBlGFeOZtZ"
      },
      "source": [
        ""
      ]
    },
    {
      "cell_type": "markdown",
      "metadata": {
        "id": "7VyWslJFLvj1"
      },
      "source": [
        "##Getting Real Pricing Data\n",
        "\n",
        "Randomly sampled data can be great for testing ideas, but let's get some real data. We can use `get_pricing` to do that. You can use the `?` syntax as discussed above to get more information on `get_pricing`'s arguments."
      ]
    },
    {
      "cell_type": "code",
      "metadata": {
        "id": "EtfXjRRULvj2"
      },
      "source": [
        "#data = get_pricing('MSFT', start_date='2012-1-1', end_date='2015-6-1')"
      ],
      "execution_count": null,
      "outputs": []
    },
    {
      "cell_type": "markdown",
      "metadata": {
        "id": "zEjjp32sAIwy"
      },
      "source": [
        "#Get the data online (scraping) from Yahoo Finance with the function get_data_yahoo function form pandas-datareader"
      ]
    },
    {
      "cell_type": "code",
      "metadata": {
        "colab": {
          "base_uri": "https://localhost:8080/",
          "height": 437
        },
        "id": "TlSjxl_JocJn",
        "outputId": "9f0a2e58-5d7e-480a-c4ec-45fd0102be2d"
      },
      "source": [
        "import pandas_datareader as pdr\r\n",
        "import datetime \r\n",
        "data = pdr.get_data_yahoo('MSFT', start= datetime.datetime(2018,1,1), end= datetime.datetime(2019,1,1))\r\n",
        "data"
      ],
      "execution_count": null,
      "outputs": [
        {
          "output_type": "execute_result",
          "data": {
            "text/html": [
              "<div>\n",
              "<style scoped>\n",
              "    .dataframe tbody tr th:only-of-type {\n",
              "        vertical-align: middle;\n",
              "    }\n",
              "\n",
              "    .dataframe tbody tr th {\n",
              "        vertical-align: top;\n",
              "    }\n",
              "\n",
              "    .dataframe thead th {\n",
              "        text-align: right;\n",
              "    }\n",
              "</style>\n",
              "<table border=\"1\" class=\"dataframe\">\n",
              "  <thead>\n",
              "    <tr style=\"text-align: right;\">\n",
              "      <th></th>\n",
              "      <th>High</th>\n",
              "      <th>Low</th>\n",
              "      <th>Open</th>\n",
              "      <th>Close</th>\n",
              "      <th>Volume</th>\n",
              "      <th>Adj Close</th>\n",
              "    </tr>\n",
              "    <tr>\n",
              "      <th>Date</th>\n",
              "      <th></th>\n",
              "      <th></th>\n",
              "      <th></th>\n",
              "      <th></th>\n",
              "      <th></th>\n",
              "      <th></th>\n",
              "    </tr>\n",
              "  </thead>\n",
              "  <tbody>\n",
              "    <tr>\n",
              "      <th>2018-01-02</th>\n",
              "      <td>86.309998</td>\n",
              "      <td>85.500000</td>\n",
              "      <td>86.129997</td>\n",
              "      <td>85.949997</td>\n",
              "      <td>22483800.0</td>\n",
              "      <td>82.194328</td>\n",
              "    </tr>\n",
              "    <tr>\n",
              "      <th>2018-01-03</th>\n",
              "      <td>86.510002</td>\n",
              "      <td>85.970001</td>\n",
              "      <td>86.059998</td>\n",
              "      <td>86.349998</td>\n",
              "      <td>26061400.0</td>\n",
              "      <td>82.576843</td>\n",
              "    </tr>\n",
              "    <tr>\n",
              "      <th>2018-01-04</th>\n",
              "      <td>87.660004</td>\n",
              "      <td>86.570000</td>\n",
              "      <td>86.589996</td>\n",
              "      <td>87.110001</td>\n",
              "      <td>21912000.0</td>\n",
              "      <td>83.303658</td>\n",
              "    </tr>\n",
              "    <tr>\n",
              "      <th>2018-01-05</th>\n",
              "      <td>88.410004</td>\n",
              "      <td>87.430000</td>\n",
              "      <td>87.660004</td>\n",
              "      <td>88.190002</td>\n",
              "      <td>23407100.0</td>\n",
              "      <td>84.336464</td>\n",
              "    </tr>\n",
              "    <tr>\n",
              "      <th>2018-01-08</th>\n",
              "      <td>88.580002</td>\n",
              "      <td>87.599998</td>\n",
              "      <td>88.199997</td>\n",
              "      <td>88.279999</td>\n",
              "      <td>22113000.0</td>\n",
              "      <td>84.422516</td>\n",
              "    </tr>\n",
              "    <tr>\n",
              "      <th>...</th>\n",
              "      <td>...</td>\n",
              "      <td>...</td>\n",
              "      <td>...</td>\n",
              "      <td>...</td>\n",
              "      <td>...</td>\n",
              "      <td>...</td>\n",
              "    </tr>\n",
              "    <tr>\n",
              "      <th>2018-12-24</th>\n",
              "      <td>97.970001</td>\n",
              "      <td>93.980003</td>\n",
              "      <td>97.680000</td>\n",
              "      <td>94.129997</td>\n",
              "      <td>43935200.0</td>\n",
              "      <td>91.575211</td>\n",
              "    </tr>\n",
              "    <tr>\n",
              "      <th>2018-12-26</th>\n",
              "      <td>100.690002</td>\n",
              "      <td>93.959999</td>\n",
              "      <td>95.139999</td>\n",
              "      <td>100.559998</td>\n",
              "      <td>51634800.0</td>\n",
              "      <td>97.830696</td>\n",
              "    </tr>\n",
              "    <tr>\n",
              "      <th>2018-12-27</th>\n",
              "      <td>101.190002</td>\n",
              "      <td>96.400002</td>\n",
              "      <td>99.300003</td>\n",
              "      <td>101.180000</td>\n",
              "      <td>49498500.0</td>\n",
              "      <td>98.433876</td>\n",
              "    </tr>\n",
              "    <tr>\n",
              "      <th>2018-12-28</th>\n",
              "      <td>102.410004</td>\n",
              "      <td>99.519997</td>\n",
              "      <td>102.089996</td>\n",
              "      <td>100.389999</td>\n",
              "      <td>38196300.0</td>\n",
              "      <td>97.665306</td>\n",
              "    </tr>\n",
              "    <tr>\n",
              "      <th>2018-12-31</th>\n",
              "      <td>102.400002</td>\n",
              "      <td>100.440002</td>\n",
              "      <td>101.290001</td>\n",
              "      <td>101.570000</td>\n",
              "      <td>33173800.0</td>\n",
              "      <td>98.813278</td>\n",
              "    </tr>\n",
              "  </tbody>\n",
              "</table>\n",
              "<p>251 rows × 6 columns</p>\n",
              "</div>"
            ],
            "text/plain": [
              "                  High         Low  ...      Volume  Adj Close\n",
              "Date                                ...                       \n",
              "2018-01-02   86.309998   85.500000  ...  22483800.0  82.194328\n",
              "2018-01-03   86.510002   85.970001  ...  26061400.0  82.576843\n",
              "2018-01-04   87.660004   86.570000  ...  21912000.0  83.303658\n",
              "2018-01-05   88.410004   87.430000  ...  23407100.0  84.336464\n",
              "2018-01-08   88.580002   87.599998  ...  22113000.0  84.422516\n",
              "...                ...         ...  ...         ...        ...\n",
              "2018-12-24   97.970001   93.980003  ...  43935200.0  91.575211\n",
              "2018-12-26  100.690002   93.959999  ...  51634800.0  97.830696\n",
              "2018-12-27  101.190002   96.400002  ...  49498500.0  98.433876\n",
              "2018-12-28  102.410004   99.519997  ...  38196300.0  97.665306\n",
              "2018-12-31  102.400002  100.440002  ...  33173800.0  98.813278\n",
              "\n",
              "[251 rows x 6 columns]"
            ]
          },
          "metadata": {
            "tags": []
          },
          "execution_count": 25
        }
      ]
    },
    {
      "cell_type": "code",
      "metadata": {
        "id": "mkpBIWoIogyQ"
      },
      "source": [
        "del data"
      ],
      "execution_count": null,
      "outputs": []
    },
    {
      "cell_type": "markdown",
      "metadata": {
        "id": "D4el5tatvz0q"
      },
      "source": [
        "#Download the data from Yahoo Finance in a CSV (Coma Sperated Values .csv )file, upload the file in GutHub and read the data using the read_csv function form pandas\r\n"
      ]
    },
    {
      "cell_type": "code",
      "metadata": {
        "colab": {
          "base_uri": "https://localhost:8080/",
          "height": 407
        },
        "id": "x39DKEvKHH2J",
        "outputId": "fab42d1a-4e84-4bdc-c345-32a1c18d084a"
      },
      "source": [
        "import pandas as pd\r\n",
        "data = pd.read_csv('https://raw.githubusercontent.com/gjhernandezp/algorithms/master/Python/MSFT.csv')\r\n",
        "data"
      ],
      "execution_count": null,
      "outputs": [
        {
          "output_type": "execute_result",
          "data": {
            "text/html": [
              "<div>\n",
              "<style scoped>\n",
              "    .dataframe tbody tr th:only-of-type {\n",
              "        vertical-align: middle;\n",
              "    }\n",
              "\n",
              "    .dataframe tbody tr th {\n",
              "        vertical-align: top;\n",
              "    }\n",
              "\n",
              "    .dataframe thead th {\n",
              "        text-align: right;\n",
              "    }\n",
              "</style>\n",
              "<table border=\"1\" class=\"dataframe\">\n",
              "  <thead>\n",
              "    <tr style=\"text-align: right;\">\n",
              "      <th></th>\n",
              "      <th>Date</th>\n",
              "      <th>Open</th>\n",
              "      <th>High</th>\n",
              "      <th>Low</th>\n",
              "      <th>Close</th>\n",
              "      <th>Adj Close</th>\n",
              "      <th>Volume</th>\n",
              "    </tr>\n",
              "  </thead>\n",
              "  <tbody>\n",
              "    <tr>\n",
              "      <th>0</th>\n",
              "      <td>2020-03-04</td>\n",
              "      <td>168.490005</td>\n",
              "      <td>170.699997</td>\n",
              "      <td>165.619995</td>\n",
              "      <td>170.550003</td>\n",
              "      <td>168.834290</td>\n",
              "      <td>49814400</td>\n",
              "    </tr>\n",
              "    <tr>\n",
              "      <th>1</th>\n",
              "      <td>2020-03-05</td>\n",
              "      <td>166.050003</td>\n",
              "      <td>170.869995</td>\n",
              "      <td>165.690002</td>\n",
              "      <td>166.270004</td>\n",
              "      <td>164.597351</td>\n",
              "      <td>47817300</td>\n",
              "    </tr>\n",
              "    <tr>\n",
              "      <th>2</th>\n",
              "      <td>2020-03-06</td>\n",
              "      <td>162.610001</td>\n",
              "      <td>163.110001</td>\n",
              "      <td>156.000000</td>\n",
              "      <td>161.570007</td>\n",
              "      <td>159.944641</td>\n",
              "      <td>72821100</td>\n",
              "    </tr>\n",
              "    <tr>\n",
              "      <th>3</th>\n",
              "      <td>2020-03-09</td>\n",
              "      <td>151.000000</td>\n",
              "      <td>157.750000</td>\n",
              "      <td>150.000000</td>\n",
              "      <td>150.619995</td>\n",
              "      <td>149.104797</td>\n",
              "      <td>70419300</td>\n",
              "    </tr>\n",
              "    <tr>\n",
              "      <th>4</th>\n",
              "      <td>2020-03-10</td>\n",
              "      <td>158.160004</td>\n",
              "      <td>161.029999</td>\n",
              "      <td>152.580002</td>\n",
              "      <td>160.919998</td>\n",
              "      <td>159.301178</td>\n",
              "      <td>65354400</td>\n",
              "    </tr>\n",
              "    <tr>\n",
              "      <th>...</th>\n",
              "      <td>...</td>\n",
              "      <td>...</td>\n",
              "      <td>...</td>\n",
              "      <td>...</td>\n",
              "      <td>...</td>\n",
              "      <td>...</td>\n",
              "      <td>...</td>\n",
              "    </tr>\n",
              "    <tr>\n",
              "      <th>248</th>\n",
              "      <td>2021-02-26</td>\n",
              "      <td>231.529999</td>\n",
              "      <td>235.369995</td>\n",
              "      <td>229.539993</td>\n",
              "      <td>232.380005</td>\n",
              "      <td>232.380005</td>\n",
              "      <td>37811200</td>\n",
              "    </tr>\n",
              "    <tr>\n",
              "      <th>249</th>\n",
              "      <td>2021-03-01</td>\n",
              "      <td>235.899994</td>\n",
              "      <td>237.470001</td>\n",
              "      <td>233.149994</td>\n",
              "      <td>236.940002</td>\n",
              "      <td>236.940002</td>\n",
              "      <td>25324000</td>\n",
              "    </tr>\n",
              "    <tr>\n",
              "      <th>250</th>\n",
              "      <td>2021-03-02</td>\n",
              "      <td>237.009995</td>\n",
              "      <td>237.300003</td>\n",
              "      <td>233.449997</td>\n",
              "      <td>233.869995</td>\n",
              "      <td>233.869995</td>\n",
              "      <td>22785500</td>\n",
              "    </tr>\n",
              "    <tr>\n",
              "      <th>251</th>\n",
              "      <td>2021-03-03</td>\n",
              "      <td>232.160004</td>\n",
              "      <td>233.580002</td>\n",
              "      <td>227.259995</td>\n",
              "      <td>227.559998</td>\n",
              "      <td>227.559998</td>\n",
              "      <td>33950400</td>\n",
              "    </tr>\n",
              "    <tr>\n",
              "      <th>252</th>\n",
              "      <td>2021-03-04</td>\n",
              "      <td>226.735001</td>\n",
              "      <td>232.490005</td>\n",
              "      <td>224.259995</td>\n",
              "      <td>226.100006</td>\n",
              "      <td>226.100006</td>\n",
              "      <td>30092265</td>\n",
              "    </tr>\n",
              "  </tbody>\n",
              "</table>\n",
              "<p>253 rows × 7 columns</p>\n",
              "</div>"
            ],
            "text/plain": [
              "           Date        Open        High  ...       Close   Adj Close    Volume\n",
              "0    2020-03-04  168.490005  170.699997  ...  170.550003  168.834290  49814400\n",
              "1    2020-03-05  166.050003  170.869995  ...  166.270004  164.597351  47817300\n",
              "2    2020-03-06  162.610001  163.110001  ...  161.570007  159.944641  72821100\n",
              "3    2020-03-09  151.000000  157.750000  ...  150.619995  149.104797  70419300\n",
              "4    2020-03-10  158.160004  161.029999  ...  160.919998  159.301178  65354400\n",
              "..          ...         ...         ...  ...         ...         ...       ...\n",
              "248  2021-02-26  231.529999  235.369995  ...  232.380005  232.380005  37811200\n",
              "249  2021-03-01  235.899994  237.470001  ...  236.940002  236.940002  25324000\n",
              "250  2021-03-02  237.009995  237.300003  ...  233.869995  233.869995  22785500\n",
              "251  2021-03-03  232.160004  233.580002  ...  227.559998  227.559998  33950400\n",
              "252  2021-03-04  226.735001  232.490005  ...  226.100006  226.100006  30092265\n",
              "\n",
              "[253 rows x 7 columns]"
            ]
          },
          "metadata": {
            "tags": []
          },
          "execution_count": 30
        }
      ]
    },
    {
      "cell_type": "markdown",
      "metadata": {
        "id": "vfYFZ_Rix58f"
      },
      "source": [
        "Ejemplo"
      ]
    },
    {
      "cell_type": "code",
      "metadata": {
        "colab": {
          "base_uri": "https://localhost:8080/",
          "height": 407
        },
        "id": "QKrpp2Aax8HH",
        "outputId": "294b4d27-e1b0-4732-b068-97f21aa61fa9"
      },
      "source": [
        "import pandas as pd\r\n",
        "data2 = pd.read_csv('https://raw.githubusercontent.com/dirreno/AlgorithmsUN2020I1/main/Lab1/DOGE-USD.csv')\r\n",
        "data2"
      ],
      "execution_count": 4,
      "outputs": [
        {
          "output_type": "execute_result",
          "data": {
            "text/html": [
              "<div>\n",
              "<style scoped>\n",
              "    .dataframe tbody tr th:only-of-type {\n",
              "        vertical-align: middle;\n",
              "    }\n",
              "\n",
              "    .dataframe tbody tr th {\n",
              "        vertical-align: top;\n",
              "    }\n",
              "\n",
              "    .dataframe thead th {\n",
              "        text-align: right;\n",
              "    }\n",
              "</style>\n",
              "<table border=\"1\" class=\"dataframe\">\n",
              "  <thead>\n",
              "    <tr style=\"text-align: right;\">\n",
              "      <th></th>\n",
              "      <th>Date</th>\n",
              "      <th>Open</th>\n",
              "      <th>High</th>\n",
              "      <th>Low</th>\n",
              "      <th>Close</th>\n",
              "      <th>Adj Close</th>\n",
              "      <th>Volume</th>\n",
              "    </tr>\n",
              "  </thead>\n",
              "  <tbody>\n",
              "    <tr>\n",
              "      <th>0</th>\n",
              "      <td>2020-03-13</td>\n",
              "      <td>0.001540</td>\n",
              "      <td>0.001799</td>\n",
              "      <td>0.001247</td>\n",
              "      <td>0.001738</td>\n",
              "      <td>0.001738</td>\n",
              "      <td>2.186770e+08</td>\n",
              "    </tr>\n",
              "    <tr>\n",
              "      <th>1</th>\n",
              "      <td>2020-03-14</td>\n",
              "      <td>0.001737</td>\n",
              "      <td>0.001784</td>\n",
              "      <td>0.001640</td>\n",
              "      <td>0.001666</td>\n",
              "      <td>0.001666</td>\n",
              "      <td>1.133891e+08</td>\n",
              "    </tr>\n",
              "    <tr>\n",
              "      <th>2</th>\n",
              "      <td>2020-03-15</td>\n",
              "      <td>0.001664</td>\n",
              "      <td>0.001819</td>\n",
              "      <td>0.001655</td>\n",
              "      <td>0.001685</td>\n",
              "      <td>0.001685</td>\n",
              "      <td>1.198111e+08</td>\n",
              "    </tr>\n",
              "    <tr>\n",
              "      <th>3</th>\n",
              "      <td>2020-03-16</td>\n",
              "      <td>0.001684</td>\n",
              "      <td>0.001699</td>\n",
              "      <td>0.001453</td>\n",
              "      <td>0.001587</td>\n",
              "      <td>0.001587</td>\n",
              "      <td>1.343297e+08</td>\n",
              "    </tr>\n",
              "    <tr>\n",
              "      <th>4</th>\n",
              "      <td>2020-03-17</td>\n",
              "      <td>0.001591</td>\n",
              "      <td>0.001677</td>\n",
              "      <td>0.001558</td>\n",
              "      <td>0.001587</td>\n",
              "      <td>0.001587</td>\n",
              "      <td>1.026976e+08</td>\n",
              "    </tr>\n",
              "    <tr>\n",
              "      <th>...</th>\n",
              "      <td>...</td>\n",
              "      <td>...</td>\n",
              "      <td>...</td>\n",
              "      <td>...</td>\n",
              "      <td>...</td>\n",
              "      <td>...</td>\n",
              "      <td>...</td>\n",
              "    </tr>\n",
              "    <tr>\n",
              "      <th>361</th>\n",
              "      <td>2021-03-09</td>\n",
              "      <td>0.062104</td>\n",
              "      <td>0.062268</td>\n",
              "      <td>0.056051</td>\n",
              "      <td>0.057998</td>\n",
              "      <td>0.057998</td>\n",
              "      <td>2.466160e+09</td>\n",
              "    </tr>\n",
              "    <tr>\n",
              "      <th>362</th>\n",
              "      <td>2021-03-10</td>\n",
              "      <td>0.057964</td>\n",
              "      <td>0.058616</td>\n",
              "      <td>0.054692</td>\n",
              "      <td>0.056004</td>\n",
              "      <td>0.056004</td>\n",
              "      <td>1.534490e+09</td>\n",
              "    </tr>\n",
              "    <tr>\n",
              "      <th>363</th>\n",
              "      <td>2021-03-11</td>\n",
              "      <td>0.055977</td>\n",
              "      <td>0.056698</td>\n",
              "      <td>0.054502</td>\n",
              "      <td>0.055918</td>\n",
              "      <td>0.055918</td>\n",
              "      <td>1.233383e+09</td>\n",
              "    </tr>\n",
              "    <tr>\n",
              "      <th>364</th>\n",
              "      <td>2021-03-12</td>\n",
              "      <td>0.055921</td>\n",
              "      <td>0.056980</td>\n",
              "      <td>0.054513</td>\n",
              "      <td>0.055349</td>\n",
              "      <td>0.055349</td>\n",
              "      <td>1.287767e+09</td>\n",
              "    </tr>\n",
              "    <tr>\n",
              "      <th>365</th>\n",
              "      <td>2021-03-13</td>\n",
              "      <td>0.055909</td>\n",
              "      <td>0.058069</td>\n",
              "      <td>0.054759</td>\n",
              "      <td>0.058055</td>\n",
              "      <td>0.058055</td>\n",
              "      <td>1.301096e+09</td>\n",
              "    </tr>\n",
              "  </tbody>\n",
              "</table>\n",
              "<p>366 rows × 7 columns</p>\n",
              "</div>"
            ],
            "text/plain": [
              "           Date      Open      High  ...     Close  Adj Close        Volume\n",
              "0    2020-03-13  0.001540  0.001799  ...  0.001738   0.001738  2.186770e+08\n",
              "1    2020-03-14  0.001737  0.001784  ...  0.001666   0.001666  1.133891e+08\n",
              "2    2020-03-15  0.001664  0.001819  ...  0.001685   0.001685  1.198111e+08\n",
              "3    2020-03-16  0.001684  0.001699  ...  0.001587   0.001587  1.343297e+08\n",
              "4    2020-03-17  0.001591  0.001677  ...  0.001587   0.001587  1.026976e+08\n",
              "..          ...       ...       ...  ...       ...        ...           ...\n",
              "361  2021-03-09  0.062104  0.062268  ...  0.057998   0.057998  2.466160e+09\n",
              "362  2021-03-10  0.057964  0.058616  ...  0.056004   0.056004  1.534490e+09\n",
              "363  2021-03-11  0.055977  0.056698  ...  0.055918   0.055918  1.233383e+09\n",
              "364  2021-03-12  0.055921  0.056980  ...  0.055349   0.055349  1.287767e+09\n",
              "365  2021-03-13  0.055909  0.058069  ...  0.058055   0.058055  1.301096e+09\n",
              "\n",
              "[366 rows x 7 columns]"
            ]
          },
          "metadata": {
            "tags": []
          },
          "execution_count": 4
        }
      ]
    },
    {
      "cell_type": "markdown",
      "metadata": {
        "id": "bVi5Zd89xUL4"
      },
      "source": [
        "IMPORTANT: upload the 'MSFT.csv' 'in sample_data' folder file everytime that is excecuted the programming environment"
      ]
    },
    {
      "cell_type": "code",
      "metadata": {
        "colab": {
          "base_uri": "https://localhost:8080/",
          "height": 407
        },
        "id": "3l-vv4AnHOPr",
        "outputId": "a5f8dafa-d97f-41a2-c10d-2a5179bc3a35"
      },
      "source": [
        "import pandas as pd\r\n",
        "data = pd.read_csv('sample_data/MSFT.csv')\r\n",
        "data"
      ],
      "execution_count": null,
      "outputs": [
        {
          "output_type": "execute_result",
          "data": {
            "text/html": [
              "<div>\n",
              "<style scoped>\n",
              "    .dataframe tbody tr th:only-of-type {\n",
              "        vertical-align: middle;\n",
              "    }\n",
              "\n",
              "    .dataframe tbody tr th {\n",
              "        vertical-align: top;\n",
              "    }\n",
              "\n",
              "    .dataframe thead th {\n",
              "        text-align: right;\n",
              "    }\n",
              "</style>\n",
              "<table border=\"1\" class=\"dataframe\">\n",
              "  <thead>\n",
              "    <tr style=\"text-align: right;\">\n",
              "      <th></th>\n",
              "      <th>Date</th>\n",
              "      <th>Open</th>\n",
              "      <th>High</th>\n",
              "      <th>Low</th>\n",
              "      <th>Close</th>\n",
              "      <th>Adj Close</th>\n",
              "      <th>Volume</th>\n",
              "    </tr>\n",
              "  </thead>\n",
              "  <tbody>\n",
              "    <tr>\n",
              "      <th>0</th>\n",
              "      <td>2020-03-09</td>\n",
              "      <td>151.000000</td>\n",
              "      <td>157.750000</td>\n",
              "      <td>150.000000</td>\n",
              "      <td>150.619995</td>\n",
              "      <td>149.104797</td>\n",
              "      <td>70419300</td>\n",
              "    </tr>\n",
              "    <tr>\n",
              "      <th>1</th>\n",
              "      <td>2020-03-10</td>\n",
              "      <td>158.160004</td>\n",
              "      <td>161.029999</td>\n",
              "      <td>152.580002</td>\n",
              "      <td>160.919998</td>\n",
              "      <td>159.301178</td>\n",
              "      <td>65354400</td>\n",
              "    </tr>\n",
              "    <tr>\n",
              "      <th>2</th>\n",
              "      <td>2020-03-11</td>\n",
              "      <td>157.130005</td>\n",
              "      <td>157.699997</td>\n",
              "      <td>151.149994</td>\n",
              "      <td>153.630005</td>\n",
              "      <td>152.084518</td>\n",
              "      <td>56371600</td>\n",
              "    </tr>\n",
              "    <tr>\n",
              "      <th>3</th>\n",
              "      <td>2020-03-12</td>\n",
              "      <td>145.300003</td>\n",
              "      <td>153.470001</td>\n",
              "      <td>138.580002</td>\n",
              "      <td>139.059998</td>\n",
              "      <td>137.661087</td>\n",
              "      <td>93226400</td>\n",
              "    </tr>\n",
              "    <tr>\n",
              "      <th>4</th>\n",
              "      <td>2020-03-13</td>\n",
              "      <td>147.500000</td>\n",
              "      <td>161.910004</td>\n",
              "      <td>140.729996</td>\n",
              "      <td>158.830002</td>\n",
              "      <td>157.232208</td>\n",
              "      <td>92727400</td>\n",
              "    </tr>\n",
              "    <tr>\n",
              "      <th>...</th>\n",
              "      <td>...</td>\n",
              "      <td>...</td>\n",
              "      <td>...</td>\n",
              "      <td>...</td>\n",
              "      <td>...</td>\n",
              "      <td>...</td>\n",
              "      <td>...</td>\n",
              "    </tr>\n",
              "    <tr>\n",
              "      <th>247</th>\n",
              "      <td>2021-03-02</td>\n",
              "      <td>237.009995</td>\n",
              "      <td>237.300003</td>\n",
              "      <td>233.449997</td>\n",
              "      <td>233.869995</td>\n",
              "      <td>233.869995</td>\n",
              "      <td>22785500</td>\n",
              "    </tr>\n",
              "    <tr>\n",
              "      <th>248</th>\n",
              "      <td>2021-03-03</td>\n",
              "      <td>232.160004</td>\n",
              "      <td>233.580002</td>\n",
              "      <td>227.259995</td>\n",
              "      <td>227.559998</td>\n",
              "      <td>227.559998</td>\n",
              "      <td>33950400</td>\n",
              "    </tr>\n",
              "    <tr>\n",
              "      <th>249</th>\n",
              "      <td>2021-03-04</td>\n",
              "      <td>226.740005</td>\n",
              "      <td>232.490005</td>\n",
              "      <td>224.259995</td>\n",
              "      <td>226.729996</td>\n",
              "      <td>226.729996</td>\n",
              "      <td>44584200</td>\n",
              "    </tr>\n",
              "    <tr>\n",
              "      <th>250</th>\n",
              "      <td>2021-03-05</td>\n",
              "      <td>229.520004</td>\n",
              "      <td>233.270004</td>\n",
              "      <td>226.460007</td>\n",
              "      <td>231.600006</td>\n",
              "      <td>231.600006</td>\n",
              "      <td>41842100</td>\n",
              "    </tr>\n",
              "    <tr>\n",
              "      <th>251</th>\n",
              "      <td>2021-03-08</td>\n",
              "      <td>231.369995</td>\n",
              "      <td>233.365005</td>\n",
              "      <td>229.371002</td>\n",
              "      <td>230.725006</td>\n",
              "      <td>230.725006</td>\n",
              "      <td>14437520</td>\n",
              "    </tr>\n",
              "  </tbody>\n",
              "</table>\n",
              "<p>252 rows × 7 columns</p>\n",
              "</div>"
            ],
            "text/plain": [
              "           Date        Open        High  ...       Close   Adj Close    Volume\n",
              "0    2020-03-09  151.000000  157.750000  ...  150.619995  149.104797  70419300\n",
              "1    2020-03-10  158.160004  161.029999  ...  160.919998  159.301178  65354400\n",
              "2    2020-03-11  157.130005  157.699997  ...  153.630005  152.084518  56371600\n",
              "3    2020-03-12  145.300003  153.470001  ...  139.059998  137.661087  93226400\n",
              "4    2020-03-13  147.500000  161.910004  ...  158.830002  157.232208  92727400\n",
              "..          ...         ...         ...  ...         ...         ...       ...\n",
              "247  2021-03-02  237.009995  237.300003  ...  233.869995  233.869995  22785500\n",
              "248  2021-03-03  232.160004  233.580002  ...  227.559998  227.559998  33950400\n",
              "249  2021-03-04  226.740005  232.490005  ...  226.729996  226.729996  44584200\n",
              "250  2021-03-05  229.520004  233.270004  ...  231.600006  231.600006  41842100\n",
              "251  2021-03-08  231.369995  233.365005  ...  230.725006  230.725006  14437520\n",
              "\n",
              "[252 rows x 7 columns]"
            ]
          },
          "metadata": {
            "tags": []
          },
          "execution_count": 48
        }
      ]
    },
    {
      "cell_type": "markdown",
      "metadata": {
        "id": "JApMt2600OVZ"
      },
      "source": [
        "Ejemplo"
      ]
    },
    {
      "cell_type": "markdown",
      "metadata": {
        "id": "Hrgy7u2574FQ"
      },
      "source": [
        "IMPORTANT: upload the 'DOGE-USD.csv' 'in sample_data' folder file everytime that is excecuted the programming environment"
      ]
    },
    {
      "cell_type": "code",
      "metadata": {
        "colab": {
          "base_uri": "https://localhost:8080/",
          "height": 407
        },
        "id": "SHa4plQp6Cq1",
        "outputId": "b70c74af-e2b5-43a3-c71a-a983532cedd9"
      },
      "source": [
        "import pandas as pd\r\n",
        "data2 = pd.read_csv('sample_data/DOGE-USD.csv')\r\n",
        "data2"
      ],
      "execution_count": 9,
      "outputs": [
        {
          "output_type": "execute_result",
          "data": {
            "text/html": [
              "<div>\n",
              "<style scoped>\n",
              "    .dataframe tbody tr th:only-of-type {\n",
              "        vertical-align: middle;\n",
              "    }\n",
              "\n",
              "    .dataframe tbody tr th {\n",
              "        vertical-align: top;\n",
              "    }\n",
              "\n",
              "    .dataframe thead th {\n",
              "        text-align: right;\n",
              "    }\n",
              "</style>\n",
              "<table border=\"1\" class=\"dataframe\">\n",
              "  <thead>\n",
              "    <tr style=\"text-align: right;\">\n",
              "      <th></th>\n",
              "      <th>Date</th>\n",
              "      <th>Open</th>\n",
              "      <th>High</th>\n",
              "      <th>Low</th>\n",
              "      <th>Close</th>\n",
              "      <th>Adj Close</th>\n",
              "      <th>Volume</th>\n",
              "    </tr>\n",
              "  </thead>\n",
              "  <tbody>\n",
              "    <tr>\n",
              "      <th>0</th>\n",
              "      <td>2020-03-13</td>\n",
              "      <td>0.001540</td>\n",
              "      <td>0.001799</td>\n",
              "      <td>0.001247</td>\n",
              "      <td>0.001738</td>\n",
              "      <td>0.001738</td>\n",
              "      <td>2.186770e+08</td>\n",
              "    </tr>\n",
              "    <tr>\n",
              "      <th>1</th>\n",
              "      <td>2020-03-14</td>\n",
              "      <td>0.001737</td>\n",
              "      <td>0.001784</td>\n",
              "      <td>0.001640</td>\n",
              "      <td>0.001666</td>\n",
              "      <td>0.001666</td>\n",
              "      <td>1.133891e+08</td>\n",
              "    </tr>\n",
              "    <tr>\n",
              "      <th>2</th>\n",
              "      <td>2020-03-15</td>\n",
              "      <td>0.001664</td>\n",
              "      <td>0.001819</td>\n",
              "      <td>0.001655</td>\n",
              "      <td>0.001685</td>\n",
              "      <td>0.001685</td>\n",
              "      <td>1.198111e+08</td>\n",
              "    </tr>\n",
              "    <tr>\n",
              "      <th>3</th>\n",
              "      <td>2020-03-16</td>\n",
              "      <td>0.001684</td>\n",
              "      <td>0.001699</td>\n",
              "      <td>0.001453</td>\n",
              "      <td>0.001587</td>\n",
              "      <td>0.001587</td>\n",
              "      <td>1.343297e+08</td>\n",
              "    </tr>\n",
              "    <tr>\n",
              "      <th>4</th>\n",
              "      <td>2020-03-17</td>\n",
              "      <td>0.001591</td>\n",
              "      <td>0.001677</td>\n",
              "      <td>0.001558</td>\n",
              "      <td>0.001587</td>\n",
              "      <td>0.001587</td>\n",
              "      <td>1.026976e+08</td>\n",
              "    </tr>\n",
              "    <tr>\n",
              "      <th>...</th>\n",
              "      <td>...</td>\n",
              "      <td>...</td>\n",
              "      <td>...</td>\n",
              "      <td>...</td>\n",
              "      <td>...</td>\n",
              "      <td>...</td>\n",
              "      <td>...</td>\n",
              "    </tr>\n",
              "    <tr>\n",
              "      <th>361</th>\n",
              "      <td>2021-03-09</td>\n",
              "      <td>0.062104</td>\n",
              "      <td>0.062268</td>\n",
              "      <td>0.056051</td>\n",
              "      <td>0.057998</td>\n",
              "      <td>0.057998</td>\n",
              "      <td>2.466160e+09</td>\n",
              "    </tr>\n",
              "    <tr>\n",
              "      <th>362</th>\n",
              "      <td>2021-03-10</td>\n",
              "      <td>0.057964</td>\n",
              "      <td>0.058616</td>\n",
              "      <td>0.054692</td>\n",
              "      <td>0.056004</td>\n",
              "      <td>0.056004</td>\n",
              "      <td>1.534490e+09</td>\n",
              "    </tr>\n",
              "    <tr>\n",
              "      <th>363</th>\n",
              "      <td>2021-03-11</td>\n",
              "      <td>0.055977</td>\n",
              "      <td>0.056698</td>\n",
              "      <td>0.054502</td>\n",
              "      <td>0.055918</td>\n",
              "      <td>0.055918</td>\n",
              "      <td>1.233383e+09</td>\n",
              "    </tr>\n",
              "    <tr>\n",
              "      <th>364</th>\n",
              "      <td>2021-03-12</td>\n",
              "      <td>0.055921</td>\n",
              "      <td>0.056980</td>\n",
              "      <td>0.054513</td>\n",
              "      <td>0.055349</td>\n",
              "      <td>0.055349</td>\n",
              "      <td>1.287767e+09</td>\n",
              "    </tr>\n",
              "    <tr>\n",
              "      <th>365</th>\n",
              "      <td>2021-03-13</td>\n",
              "      <td>0.055909</td>\n",
              "      <td>0.058069</td>\n",
              "      <td>0.054759</td>\n",
              "      <td>0.058055</td>\n",
              "      <td>0.058055</td>\n",
              "      <td>1.301096e+09</td>\n",
              "    </tr>\n",
              "  </tbody>\n",
              "</table>\n",
              "<p>366 rows × 7 columns</p>\n",
              "</div>"
            ],
            "text/plain": [
              "           Date      Open      High  ...     Close  Adj Close        Volume\n",
              "0    2020-03-13  0.001540  0.001799  ...  0.001738   0.001738  2.186770e+08\n",
              "1    2020-03-14  0.001737  0.001784  ...  0.001666   0.001666  1.133891e+08\n",
              "2    2020-03-15  0.001664  0.001819  ...  0.001685   0.001685  1.198111e+08\n",
              "3    2020-03-16  0.001684  0.001699  ...  0.001587   0.001587  1.343297e+08\n",
              "4    2020-03-17  0.001591  0.001677  ...  0.001587   0.001587  1.026976e+08\n",
              "..          ...       ...       ...  ...       ...        ...           ...\n",
              "361  2021-03-09  0.062104  0.062268  ...  0.057998   0.057998  2.466160e+09\n",
              "362  2021-03-10  0.057964  0.058616  ...  0.056004   0.056004  1.534490e+09\n",
              "363  2021-03-11  0.055977  0.056698  ...  0.055918   0.055918  1.233383e+09\n",
              "364  2021-03-12  0.055921  0.056980  ...  0.055349   0.055349  1.287767e+09\n",
              "365  2021-03-13  0.055909  0.058069  ...  0.058055   0.058055  1.301096e+09\n",
              "\n",
              "[366 rows x 7 columns]"
            ]
          },
          "metadata": {
            "tags": []
          },
          "execution_count": 9
        }
      ]
    },
    {
      "cell_type": "markdown",
      "metadata": {
        "id": "l_PogPMcLvj2"
      },
      "source": [
        "Our data is now a dataframe. You can see the datetime index and the colums with different pricing data."
      ]
    },
    {
      "cell_type": "code",
      "metadata": {
        "id": "Dy8It3AgLvj2",
        "colab": {
          "base_uri": "https://localhost:8080/",
          "height": 407
        },
        "outputId": "74dde717-6f80-478f-fab8-b3cdd6b7fbc3"
      },
      "source": [
        "data"
      ],
      "execution_count": null,
      "outputs": [
        {
          "output_type": "execute_result",
          "data": {
            "text/html": [
              "<div>\n",
              "<style scoped>\n",
              "    .dataframe tbody tr th:only-of-type {\n",
              "        vertical-align: middle;\n",
              "    }\n",
              "\n",
              "    .dataframe tbody tr th {\n",
              "        vertical-align: top;\n",
              "    }\n",
              "\n",
              "    .dataframe thead th {\n",
              "        text-align: right;\n",
              "    }\n",
              "</style>\n",
              "<table border=\"1\" class=\"dataframe\">\n",
              "  <thead>\n",
              "    <tr style=\"text-align: right;\">\n",
              "      <th></th>\n",
              "      <th>Date</th>\n",
              "      <th>Open</th>\n",
              "      <th>High</th>\n",
              "      <th>Low</th>\n",
              "      <th>Close</th>\n",
              "      <th>Adj Close</th>\n",
              "      <th>Volume</th>\n",
              "    </tr>\n",
              "  </thead>\n",
              "  <tbody>\n",
              "    <tr>\n",
              "      <th>0</th>\n",
              "      <td>2020-03-09</td>\n",
              "      <td>151.000000</td>\n",
              "      <td>157.750000</td>\n",
              "      <td>150.000000</td>\n",
              "      <td>150.619995</td>\n",
              "      <td>149.104797</td>\n",
              "      <td>70419300</td>\n",
              "    </tr>\n",
              "    <tr>\n",
              "      <th>1</th>\n",
              "      <td>2020-03-10</td>\n",
              "      <td>158.160004</td>\n",
              "      <td>161.029999</td>\n",
              "      <td>152.580002</td>\n",
              "      <td>160.919998</td>\n",
              "      <td>159.301178</td>\n",
              "      <td>65354400</td>\n",
              "    </tr>\n",
              "    <tr>\n",
              "      <th>2</th>\n",
              "      <td>2020-03-11</td>\n",
              "      <td>157.130005</td>\n",
              "      <td>157.699997</td>\n",
              "      <td>151.149994</td>\n",
              "      <td>153.630005</td>\n",
              "      <td>152.084518</td>\n",
              "      <td>56371600</td>\n",
              "    </tr>\n",
              "    <tr>\n",
              "      <th>3</th>\n",
              "      <td>2020-03-12</td>\n",
              "      <td>145.300003</td>\n",
              "      <td>153.470001</td>\n",
              "      <td>138.580002</td>\n",
              "      <td>139.059998</td>\n",
              "      <td>137.661087</td>\n",
              "      <td>93226400</td>\n",
              "    </tr>\n",
              "    <tr>\n",
              "      <th>4</th>\n",
              "      <td>2020-03-13</td>\n",
              "      <td>147.500000</td>\n",
              "      <td>161.910004</td>\n",
              "      <td>140.729996</td>\n",
              "      <td>158.830002</td>\n",
              "      <td>157.232208</td>\n",
              "      <td>92727400</td>\n",
              "    </tr>\n",
              "    <tr>\n",
              "      <th>...</th>\n",
              "      <td>...</td>\n",
              "      <td>...</td>\n",
              "      <td>...</td>\n",
              "      <td>...</td>\n",
              "      <td>...</td>\n",
              "      <td>...</td>\n",
              "      <td>...</td>\n",
              "    </tr>\n",
              "    <tr>\n",
              "      <th>247</th>\n",
              "      <td>2021-03-02</td>\n",
              "      <td>237.009995</td>\n",
              "      <td>237.300003</td>\n",
              "      <td>233.449997</td>\n",
              "      <td>233.869995</td>\n",
              "      <td>233.869995</td>\n",
              "      <td>22785500</td>\n",
              "    </tr>\n",
              "    <tr>\n",
              "      <th>248</th>\n",
              "      <td>2021-03-03</td>\n",
              "      <td>232.160004</td>\n",
              "      <td>233.580002</td>\n",
              "      <td>227.259995</td>\n",
              "      <td>227.559998</td>\n",
              "      <td>227.559998</td>\n",
              "      <td>33950400</td>\n",
              "    </tr>\n",
              "    <tr>\n",
              "      <th>249</th>\n",
              "      <td>2021-03-04</td>\n",
              "      <td>226.740005</td>\n",
              "      <td>232.490005</td>\n",
              "      <td>224.259995</td>\n",
              "      <td>226.729996</td>\n",
              "      <td>226.729996</td>\n",
              "      <td>44584200</td>\n",
              "    </tr>\n",
              "    <tr>\n",
              "      <th>250</th>\n",
              "      <td>2021-03-05</td>\n",
              "      <td>229.520004</td>\n",
              "      <td>233.270004</td>\n",
              "      <td>226.460007</td>\n",
              "      <td>231.600006</td>\n",
              "      <td>231.600006</td>\n",
              "      <td>41842100</td>\n",
              "    </tr>\n",
              "    <tr>\n",
              "      <th>251</th>\n",
              "      <td>2021-03-08</td>\n",
              "      <td>231.369995</td>\n",
              "      <td>233.365005</td>\n",
              "      <td>229.371002</td>\n",
              "      <td>230.725006</td>\n",
              "      <td>230.725006</td>\n",
              "      <td>14437520</td>\n",
              "    </tr>\n",
              "  </tbody>\n",
              "</table>\n",
              "<p>252 rows × 7 columns</p>\n",
              "</div>"
            ],
            "text/plain": [
              "           Date        Open        High  ...       Close   Adj Close    Volume\n",
              "0    2020-03-09  151.000000  157.750000  ...  150.619995  149.104797  70419300\n",
              "1    2020-03-10  158.160004  161.029999  ...  160.919998  159.301178  65354400\n",
              "2    2020-03-11  157.130005  157.699997  ...  153.630005  152.084518  56371600\n",
              "3    2020-03-12  145.300003  153.470001  ...  139.059998  137.661087  93226400\n",
              "4    2020-03-13  147.500000  161.910004  ...  158.830002  157.232208  92727400\n",
              "..          ...         ...         ...  ...         ...         ...       ...\n",
              "247  2021-03-02  237.009995  237.300003  ...  233.869995  233.869995  22785500\n",
              "248  2021-03-03  232.160004  233.580002  ...  227.559998  227.559998  33950400\n",
              "249  2021-03-04  226.740005  232.490005  ...  226.729996  226.729996  44584200\n",
              "250  2021-03-05  229.520004  233.270004  ...  231.600006  231.600006  41842100\n",
              "251  2021-03-08  231.369995  233.365005  ...  230.725006  230.725006  14437520\n",
              "\n",
              "[252 rows x 7 columns]"
            ]
          },
          "metadata": {
            "tags": []
          },
          "execution_count": 49
        }
      ]
    },
    {
      "cell_type": "markdown",
      "metadata": {
        "id": "87qmbkN_6jPb"
      },
      "source": [
        "Ejemplo"
      ]
    },
    {
      "cell_type": "code",
      "metadata": {
        "colab": {
          "base_uri": "https://localhost:8080/",
          "height": 407
        },
        "id": "bp-F8_ar6kjz",
        "outputId": "bc4deb6b-c662-4f35-d8c6-2de8d68a8818"
      },
      "source": [
        "data2"
      ],
      "execution_count": 6,
      "outputs": [
        {
          "output_type": "execute_result",
          "data": {
            "text/html": [
              "<div>\n",
              "<style scoped>\n",
              "    .dataframe tbody tr th:only-of-type {\n",
              "        vertical-align: middle;\n",
              "    }\n",
              "\n",
              "    .dataframe tbody tr th {\n",
              "        vertical-align: top;\n",
              "    }\n",
              "\n",
              "    .dataframe thead th {\n",
              "        text-align: right;\n",
              "    }\n",
              "</style>\n",
              "<table border=\"1\" class=\"dataframe\">\n",
              "  <thead>\n",
              "    <tr style=\"text-align: right;\">\n",
              "      <th></th>\n",
              "      <th>Date</th>\n",
              "      <th>Open</th>\n",
              "      <th>High</th>\n",
              "      <th>Low</th>\n",
              "      <th>Close</th>\n",
              "      <th>Adj Close</th>\n",
              "      <th>Volume</th>\n",
              "    </tr>\n",
              "  </thead>\n",
              "  <tbody>\n",
              "    <tr>\n",
              "      <th>0</th>\n",
              "      <td>2020-03-13</td>\n",
              "      <td>0.001540</td>\n",
              "      <td>0.001799</td>\n",
              "      <td>0.001247</td>\n",
              "      <td>0.001738</td>\n",
              "      <td>0.001738</td>\n",
              "      <td>2.186770e+08</td>\n",
              "    </tr>\n",
              "    <tr>\n",
              "      <th>1</th>\n",
              "      <td>2020-03-14</td>\n",
              "      <td>0.001737</td>\n",
              "      <td>0.001784</td>\n",
              "      <td>0.001640</td>\n",
              "      <td>0.001666</td>\n",
              "      <td>0.001666</td>\n",
              "      <td>1.133891e+08</td>\n",
              "    </tr>\n",
              "    <tr>\n",
              "      <th>2</th>\n",
              "      <td>2020-03-15</td>\n",
              "      <td>0.001664</td>\n",
              "      <td>0.001819</td>\n",
              "      <td>0.001655</td>\n",
              "      <td>0.001685</td>\n",
              "      <td>0.001685</td>\n",
              "      <td>1.198111e+08</td>\n",
              "    </tr>\n",
              "    <tr>\n",
              "      <th>3</th>\n",
              "      <td>2020-03-16</td>\n",
              "      <td>0.001684</td>\n",
              "      <td>0.001699</td>\n",
              "      <td>0.001453</td>\n",
              "      <td>0.001587</td>\n",
              "      <td>0.001587</td>\n",
              "      <td>1.343297e+08</td>\n",
              "    </tr>\n",
              "    <tr>\n",
              "      <th>4</th>\n",
              "      <td>2020-03-17</td>\n",
              "      <td>0.001591</td>\n",
              "      <td>0.001677</td>\n",
              "      <td>0.001558</td>\n",
              "      <td>0.001587</td>\n",
              "      <td>0.001587</td>\n",
              "      <td>1.026976e+08</td>\n",
              "    </tr>\n",
              "    <tr>\n",
              "      <th>...</th>\n",
              "      <td>...</td>\n",
              "      <td>...</td>\n",
              "      <td>...</td>\n",
              "      <td>...</td>\n",
              "      <td>...</td>\n",
              "      <td>...</td>\n",
              "      <td>...</td>\n",
              "    </tr>\n",
              "    <tr>\n",
              "      <th>361</th>\n",
              "      <td>2021-03-09</td>\n",
              "      <td>0.062104</td>\n",
              "      <td>0.062268</td>\n",
              "      <td>0.056051</td>\n",
              "      <td>0.057998</td>\n",
              "      <td>0.057998</td>\n",
              "      <td>2.466160e+09</td>\n",
              "    </tr>\n",
              "    <tr>\n",
              "      <th>362</th>\n",
              "      <td>2021-03-10</td>\n",
              "      <td>0.057964</td>\n",
              "      <td>0.058616</td>\n",
              "      <td>0.054692</td>\n",
              "      <td>0.056004</td>\n",
              "      <td>0.056004</td>\n",
              "      <td>1.534490e+09</td>\n",
              "    </tr>\n",
              "    <tr>\n",
              "      <th>363</th>\n",
              "      <td>2021-03-11</td>\n",
              "      <td>0.055977</td>\n",
              "      <td>0.056698</td>\n",
              "      <td>0.054502</td>\n",
              "      <td>0.055918</td>\n",
              "      <td>0.055918</td>\n",
              "      <td>1.233383e+09</td>\n",
              "    </tr>\n",
              "    <tr>\n",
              "      <th>364</th>\n",
              "      <td>2021-03-12</td>\n",
              "      <td>0.055921</td>\n",
              "      <td>0.056980</td>\n",
              "      <td>0.054513</td>\n",
              "      <td>0.055349</td>\n",
              "      <td>0.055349</td>\n",
              "      <td>1.287767e+09</td>\n",
              "    </tr>\n",
              "    <tr>\n",
              "      <th>365</th>\n",
              "      <td>2021-03-13</td>\n",
              "      <td>0.055909</td>\n",
              "      <td>0.058069</td>\n",
              "      <td>0.054759</td>\n",
              "      <td>0.058055</td>\n",
              "      <td>0.058055</td>\n",
              "      <td>1.301096e+09</td>\n",
              "    </tr>\n",
              "  </tbody>\n",
              "</table>\n",
              "<p>366 rows × 7 columns</p>\n",
              "</div>"
            ],
            "text/plain": [
              "           Date      Open      High  ...     Close  Adj Close        Volume\n",
              "0    2020-03-13  0.001540  0.001799  ...  0.001738   0.001738  2.186770e+08\n",
              "1    2020-03-14  0.001737  0.001784  ...  0.001666   0.001666  1.133891e+08\n",
              "2    2020-03-15  0.001664  0.001819  ...  0.001685   0.001685  1.198111e+08\n",
              "3    2020-03-16  0.001684  0.001699  ...  0.001587   0.001587  1.343297e+08\n",
              "4    2020-03-17  0.001591  0.001677  ...  0.001587   0.001587  1.026976e+08\n",
              "..          ...       ...       ...  ...       ...        ...           ...\n",
              "361  2021-03-09  0.062104  0.062268  ...  0.057998   0.057998  2.466160e+09\n",
              "362  2021-03-10  0.057964  0.058616  ...  0.056004   0.056004  1.534490e+09\n",
              "363  2021-03-11  0.055977  0.056698  ...  0.055918   0.055918  1.233383e+09\n",
              "364  2021-03-12  0.055921  0.056980  ...  0.055349   0.055349  1.287767e+09\n",
              "365  2021-03-13  0.055909  0.058069  ...  0.058055   0.058055  1.301096e+09\n",
              "\n",
              "[366 rows x 7 columns]"
            ]
          },
          "metadata": {
            "tags": []
          },
          "execution_count": 6
        }
      ]
    },
    {
      "cell_type": "markdown",
      "metadata": {
        "id": "M9Nd54pFLvj2"
      },
      "source": [
        "This is a pandas dataframe, so we can index in to just get price like this. For more info on pandas, please [click here](http://pandas.pydata.org/pandas-docs/stable/10min.html)."
      ]
    },
    {
      "cell_type": "code",
      "metadata": {
        "id": "bhl09vy5Lvj2"
      },
      "source": [
        "X = data['Close']"
      ],
      "execution_count": null,
      "outputs": []
    },
    {
      "cell_type": "markdown",
      "metadata": {
        "id": "1go039SI6pvm"
      },
      "source": [
        "Ejemplo"
      ]
    },
    {
      "cell_type": "code",
      "metadata": {
        "id": "pryQKJ7G6tMc"
      },
      "source": [
        "Y = data2['Close']"
      ],
      "execution_count": 7,
      "outputs": []
    },
    {
      "cell_type": "markdown",
      "metadata": {
        "id": "6gMBx59VLvj3"
      },
      "source": [
        "Because there is now also date information in our data, we provide two series to `.plot`. `X.index` gives us the datetime index, and `X.values` gives us the pricing values. These are used as the X and Y coordinates to make a graph."
      ]
    },
    {
      "cell_type": "code",
      "metadata": {
        "id": "BGKmelNJLvj3",
        "colab": {
          "base_uri": "https://localhost:8080/",
          "height": 265
        },
        "outputId": "f2cc6ed8-b03a-4839-f2a0-1e4f151bd333"
      },
      "source": [
        "plt.plot(X.index, X.values)\n",
        "plt.ylabel('CLose')\n",
        "plt.legend(['MSFT']);"
      ],
      "execution_count": null,
      "outputs": [
        {
          "output_type": "display_data",
          "data": {
            "image/png": "[encoded data removed]",
            "text/plain": [
              "<Figure size 432x288 with 1 Axes>"
            ]
          },
          "metadata": {
            "tags": [],
            "needs_background": "light"
          }
        }
      ]
    },
    {
      "cell_type": "markdown",
      "metadata": {
        "id": "GiE9wyNo60Nr"
      },
      "source": [
        "Ejemplo"
      ]
    },
    {
      "cell_type": "code",
      "metadata": {
        "colab": {
          "base_uri": "https://localhost:8080/",
          "height": 265
        },
        "id": "cCQY0lxg61P2",
        "outputId": "f2d63f9f-46eb-46eb-eb88-400dcf9679fb"
      },
      "source": [
        "plt.plot(Y.index, Y.values)\r\n",
        "plt.ylabel('CLose')\r\n",
        "plt.legend(['DOGE-USD']);"
      ],
      "execution_count": 12,
      "outputs": [
        {
          "output_type": "display_data",
          "data": {
            "image/png": "[encoded data removed]",
            "text/plain": [
              "<Figure size 432x288 with 1 Axes>"
            ]
          },
          "metadata": {
            "tags": [],
            "needs_background": "light"
          }
        }
      ]
    },
    {
      "cell_type": "markdown",
      "metadata": {
        "id": "9L5YFFkILvj3"
      },
      "source": [
        "We can get statistics again on real data."
      ]
    },
    {
      "cell_type": "markdown",
      "metadata": {
        "id": "3k920Xdy8eQh"
      },
      "source": [
        "Mean"
      ]
    },
    {
      "cell_type": "markdown",
      "metadata": {
        "id": "MrFYtGfd8EK0"
      },
      "source": [
        "$\\overline{x}=\\frac{1}{n}\\sum_{i=0}^{n}x_{i}\r\n",
        "$"
      ]
    },
    {
      "cell_type": "code",
      "metadata": {
        "id": "znIMxfcXLvj3",
        "colab": {
          "base_uri": "https://localhost:8080/"
        },
        "outputId": "18a8e7ff-faa3-428f-f68a-1d26b4f9203a"
      },
      "source": [
        "np.mean(X)"
      ],
      "execution_count": null,
      "outputs": [
        {
          "output_type": "execute_result",
          "data": {
            "text/plain": [
              "203.67656744047628"
            ]
          },
          "metadata": {
            "tags": []
          },
          "execution_count": 35
        }
      ]
    },
    {
      "cell_type": "markdown",
      "metadata": {
        "id": "U1liZFuy8FRi"
      },
      "source": [
        "Ejemplo"
      ]
    },
    {
      "cell_type": "code",
      "metadata": {
        "colab": {
          "base_uri": "https://localhost:8080/"
        },
        "id": "7enCD9X08Gn7",
        "outputId": "42ac711b-4e83-4fb0-b45b-468ba62783f6"
      },
      "source": [
        "np.mean(Y)"
      ],
      "execution_count": 13,
      "outputs": [
        {
          "output_type": "execute_result",
          "data": {
            "text/plain": [
              "0.00954795580110497"
            ]
          },
          "metadata": {
            "tags": []
          },
          "execution_count": 13
        }
      ]
    },
    {
      "cell_type": "markdown",
      "metadata": {
        "id": "K0Z1eNLW8gUj"
      },
      "source": [
        "Standart Deviation"
      ]
    },
    {
      "cell_type": "markdown",
      "metadata": {
        "id": "D1Z4S3ok8En6"
      },
      "source": [
        "$\\sigma=\\sqrt{\\frac{\\sum_{i=0}^{n}(x_{i}-\\overline{x})^{2}}{n-1}}$"
      ]
    },
    {
      "cell_type": "code",
      "metadata": {
        "id": "-i1RW2tMLvj3",
        "colab": {
          "base_uri": "https://localhost:8080/"
        },
        "outputId": "57b7e3f3-f83c-43dc-b94c-f21af53fe5c6"
      },
      "source": [
        "np.std(X)"
      ],
      "execution_count": null,
      "outputs": [
        {
          "output_type": "execute_result",
          "data": {
            "text/plain": [
              "24.0934753344041"
            ]
          },
          "metadata": {
            "tags": []
          },
          "execution_count": 36
        }
      ]
    },
    {
      "cell_type": "markdown",
      "metadata": {
        "id": "WdGiR72R8L7p"
      },
      "source": [
        "Ejemplo"
      ]
    },
    {
      "cell_type": "code",
      "metadata": {
        "colab": {
          "base_uri": "https://localhost:8080/"
        },
        "id": "ngPYYAbA8N3S",
        "outputId": "cb101e38-8bb8-4947-b9fd-10c47557acd6"
      },
      "source": [
        "np.std(Y)"
      ],
      "execution_count": 14,
      "outputs": [
        {
          "output_type": "execute_result",
          "data": {
            "text/plain": [
              "0.017120893300009543"
            ]
          },
          "metadata": {
            "tags": []
          },
          "execution_count": 14
        }
      ]
    },
    {
      "cell_type": "markdown",
      "metadata": {
        "id": "HI3Uux3PLvj3"
      },
      "source": [
        "##Getting Returns from Prices\n",
        "\n",
        "We can use the `pct_change` function to get returns. Notice how we drop the first element after doing this, as it will be `NaN` (nothing -> something results in a NaN percent change)."
      ]
    },
    {
      "cell_type": "code",
      "metadata": {
        "id": "_Qz66OQDLvj4"
      },
      "source": [
        "R = X.pct_change()[1:]"
      ],
      "execution_count": null,
      "outputs": []
    },
    {
      "cell_type": "markdown",
      "metadata": {
        "id": "T6LVFqBRLvj4"
      },
      "source": [
        "We can plot the returns distribution as a histogram."
      ]
    },
    {
      "cell_type": "code",
      "metadata": {
        "id": "idKvdWdILvj4",
        "colab": {
          "base_uri": "https://localhost:8080/",
          "height": 279
        },
        "outputId": "ac38408f-0097-4766-c868-2391db26547f"
      },
      "source": [
        "plt.hist(R, bins=20)\n",
        "plt.xlabel('Return')\n",
        "plt.ylabel('Frequency')\n",
        "plt.legend(['MSFT Returns']);"
      ],
      "execution_count": null,
      "outputs": [
        {
          "output_type": "display_data",
          "data": {
            "image/png": "[encoded data removed]",
            "text/plain": [
              "<Figure size 432x288 with 1 Axes>"
            ]
          },
          "metadata": {
            "tags": [],
            "needs_background": "light"
          }
        }
      ]
    },
    {
      "cell_type": "markdown",
      "metadata": {
        "id": "05cjwwfoLvj4"
      },
      "source": [
        "Get statistics again."
      ]
    },
    {
      "cell_type": "code",
      "metadata": {
        "id": "YDdQsMmtLvj4",
        "colab": {
          "base_uri": "https://localhost:8080/"
        },
        "outputId": "b9fc2980-6f35-4762-c888-e9f7a3c860cb"
      },
      "source": [
        "np.mean(R)"
      ],
      "execution_count": null,
      "outputs": [
        {
          "output_type": "execute_result",
          "data": {
            "text/plain": [
              "0.002045522581053363"
            ]
          },
          "metadata": {
            "tags": []
          },
          "execution_count": 39
        }
      ]
    },
    {
      "cell_type": "code",
      "metadata": {
        "id": "FZWiN6mALvj5",
        "colab": {
          "base_uri": "https://localhost:8080/"
        },
        "outputId": "d35a8d62-b721-4c1c-f381-53964a5789d1"
      },
      "source": [
        "np.std(R)"
      ],
      "execution_count": null,
      "outputs": [
        {
          "output_type": "execute_result",
          "data": {
            "text/plain": [
              "0.026251701961481324"
            ]
          },
          "metadata": {
            "tags": []
          },
          "execution_count": 40
        }
      ]
    },
    {
      "cell_type": "markdown",
      "metadata": {
        "id": "bJxdyeME-PgE"
      },
      "source": [
        "Ejemplo"
      ]
    },
    {
      "cell_type": "code",
      "metadata": {
        "id": "l0_NYlTV-Q5Y"
      },
      "source": [
        "R2 = Y.pct_change()[1:]"
      ],
      "execution_count": 21,
      "outputs": []
    },
    {
      "cell_type": "code",
      "metadata": {
        "colab": {
          "base_uri": "https://localhost:8080/",
          "height": 279
        },
        "id": "Qg-LBD8B-XWA",
        "outputId": "a6d3e833-33ab-46e4-d014-9562df38ea91"
      },
      "source": [
        "plt.hist(R2, bins=20)\r\n",
        "plt.xlabel('Return')\r\n",
        "plt.ylabel('Frequency')\r\n",
        "plt.legend(['DOGE-USD Returns']);"
      ],
      "execution_count": 22,
      "outputs": [
        {
          "output_type": "display_data",
          "data": {
            "image/png": "[encoded data removed]",
            "text/plain": [
              "<Figure size 432x288 with 1 Axes>"
            ]
          },
          "metadata": {
            "tags": [],
            "needs_background": "light"
          }
        }
      ]
    },
    {
      "cell_type": "code",
      "metadata": {
        "colab": {
          "base_uri": "https://localhost:8080/"
        },
        "id": "F57xe-wj-nsD",
        "outputId": "1fded81a-fee8-42e3-e3b3-77c70751312d"
      },
      "source": [
        "np.mean(R2)"
      ],
      "execution_count": 23,
      "outputs": [
        {
          "output_type": "execute_result",
          "data": {
            "text/plain": [
              "0.017022072751072804"
            ]
          },
          "metadata": {
            "tags": []
          },
          "execution_count": 23
        }
      ]
    },
    {
      "cell_type": "code",
      "metadata": {
        "colab": {
          "base_uri": "https://localhost:8080/"
        },
        "id": "UEfDp_IA-q2S",
        "outputId": "5b4022d9-82cc-4024-85ef-99a30a16861b"
      },
      "source": [
        "np.std(R2)"
      ],
      "execution_count": 24,
      "outputs": [
        {
          "output_type": "execute_result",
          "data": {
            "text/plain": [
              "0.17015034936875825"
            ]
          },
          "metadata": {
            "tags": []
          },
          "execution_count": 24
        }
      ]
    },
    {
      "cell_type": "markdown",
      "metadata": {
        "id": "kvX3-M6lLvj5"
      },
      "source": [
        "Now let's go backwards and generate data out of a normal distribution using the statistics we estimated from Microsoft's returns. We'll see that we have good reason to suspect Microsoft's returns may not be normal, as the resulting normal distribution looks far different."
      ]
    },
    {
      "cell_type": "markdown",
      "metadata": {
        "id": "t6q-C3QMCrXT"
      },
      "source": [
        "Normal distribution"
      ]
    },
    {
      "cell_type": "markdown",
      "metadata": {
        "id": "y2GNxZXiB7uX"
      },
      "source": [
        "$f(x)=\\frac{1}{\\sigma\\sqrt{2\\pi}}e^{-\\frac{(x-\\overline{x})^2}{2\\sigma}}$"
      ]
    },
    {
      "cell_type": "code",
      "metadata": {
        "id": "jXmx2cmRLvj5",
        "colab": {
          "base_uri": "https://localhost:8080/",
          "height": 279
        },
        "outputId": "f84be897-8638-40c7-9d05-df497effa49f"
      },
      "source": [
        "plt.hist(np.random.normal(np.mean(R), np.std(R), 10000), bins=20)\n",
        "plt.xlabel('Return')\n",
        "plt.ylabel('Frequency')\n",
        "plt.legend(['Normally Distributed Returns']);"
      ],
      "execution_count": null,
      "outputs": [
        {
          "output_type": "display_data",
          "data": {
            "image/png": "[encoded data removed]",
            "text/plain": [
              "<Figure size 432x288 with 1 Axes>"
            ]
          },
          "metadata": {
            "tags": [],
            "needs_background": "light"
          }
        }
      ]
    },
    {
      "cell_type": "markdown",
      "metadata": {
        "id": "XUAnNs2S-tLt"
      },
      "source": [
        "Ejemplo"
      ]
    },
    {
      "cell_type": "code",
      "metadata": {
        "colab": {
          "base_uri": "https://localhost:8080/",
          "height": 279
        },
        "id": "zS7eRsyv-uKJ",
        "outputId": "238aab39-cd38-47e8-f33b-bf77458d9b0d"
      },
      "source": [
        "plt.hist(np.random.normal(np.mean(R2), np.std(R2), 10000), bins=20)\r\n",
        "plt.xlabel('Return')\r\n",
        "plt.ylabel('Frequency')\r\n",
        "plt.legend(['Normally Distributed Returns']);"
      ],
      "execution_count": 25,
      "outputs": [
        {
          "output_type": "display_data",
          "data": {
            "image/png": "[encoded data removed]",
            "text/plain": [
              "<Figure size 432x288 with 1 Axes>"
            ]
          },
          "metadata": {
            "tags": [],
            "needs_background": "light"
          }
        }
      ]
    },
    {
      "cell_type": "markdown",
      "metadata": {
        "id": "FMPk6ki6Lvj5"
      },
      "source": [
        "##Generating a Moving Average\n",
        "\n",
        "`pandas` has some nice tools to allow us to generate rolling statistics. Here's an example. Notice how there's no moving average for the first 60 days, as we don't have 60 days of data on which to generate the statistic."
      ]
    },
    {
      "cell_type": "code",
      "metadata": {
        "id": "7EZWxsDTLvj6",
        "colab": {
          "base_uri": "https://localhost:8080/",
          "height": 265
        },
        "outputId": "60c8669f-1614-4f40-c4be-5eb772ac5f0d"
      },
      "source": [
        "# Take the average of the last 60 days at each timepoint.\n",
        "MAVG = X.rolling(60).mean()\n",
        "plt.plot(X.index, X.values)\n",
        "plt.plot(MAVG.index, MAVG.values)\n",
        "plt.ylabel('Close')\n",
        "plt.legend(['MSFT', '60-day MAVG']);"
      ],
      "execution_count": null,
      "outputs": [
        {
          "output_type": "display_data",
          "data": {
            "image/png": "[encoded data removed]",
            "text/plain": [
              "<Figure size 432x288 with 1 Axes>"
            ]
          },
          "metadata": {
            "tags": [],
            "needs_background": "light"
          }
        }
      ]
    },
    {
      "cell_type": "markdown",
      "metadata": {
        "id": "XGMI4C3x-2PW"
      },
      "source": [
        "Ejemplo"
      ]
    },
    {
      "cell_type": "code",
      "metadata": {
        "colab": {
          "base_uri": "https://localhost:8080/",
          "height": 265
        },
        "id": "3ovCtKi6Fkl8",
        "outputId": "6bc784f4-49ed-4765-b0fa-0540768d6f79"
      },
      "source": [
        "MAVG = Y.rolling(60).mean()\r\n",
        "plt.plot(Y.index, Y.values)\r\n",
        "plt.plot(MAVG.index, MAVG.values)\r\n",
        "plt.ylabel('Close')\r\n",
        "plt.legend(['DOGE-USD', '60-day MAVG']);"
      ],
      "execution_count": 26,
      "outputs": [
        {
          "output_type": "display_data",
          "data": {
            "image/png": "[encoded data removed]",
            "text/plain": [
              "<Figure size 432x288 with 1 Axes>"
            ]
          },
          "metadata": {
            "tags": [],
            "needs_background": "light"
          }
        }
      ]
    },
    {
      "cell_type": "markdown",
      "metadata": {
        "id": "VMvL1slULvj6"
      },
      "source": [
        "This presentation is for informational purposes only and does not constitute an offer to sell, a solicitation to buy, or a recommendation for any security; nor does it constitute an offer to provide investment advisory or other services by Quantopian, Inc. (\"Quantopian\"). Nothing contained herein constitutes investment advice or offers any opinion with respect to the suitability of any security, and any views expressed herein should not be taken as advice to buy, sell, or hold any security or as an endorsement of any security or company. In preparing the information contained herein, Quantopian, Inc. has not taken into account the investment needs, objectives, and financial circumstances of any particular investor. Any views expressed and data illustrated herein were prepared based upon information, believed to be reliable, available to Quantopian, Inc. at the time of publication. Quantopian makes no guarantees as to their accuracy or completeness. All information is subject to change and may quickly become unreliable for various reasons, including changes in market conditions or economic circumstances."
      ]
    }
  ]
}